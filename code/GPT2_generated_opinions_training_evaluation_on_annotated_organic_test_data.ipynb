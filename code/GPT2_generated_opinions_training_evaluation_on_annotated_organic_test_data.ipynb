{
 "cells": [
  {
   "cell_type": "code",
   "execution_count": 0,
   "metadata": {
    "colab": {
     "base_uri": "https://localhost:8080/",
     "height": 255
    },
    "colab_type": "code",
    "id": "lVjNK8shFKOC",
    "outputId": "0e56c166-4d5c-4f1c-83f1-88ca3ffe751e"
   },
   "outputs": [
    {
     "name": "stdout",
     "output_type": "stream",
     "text": [
      "Requirement already satisfied: seaborn in /usr/local/lib/python3.6/dist-packages (0.9.0)\n",
      "Requirement already satisfied: pandas>=0.15.2 in /usr/local/lib/python3.6/dist-packages (from seaborn) (0.24.2)\n",
      "Requirement already satisfied: numpy>=1.9.3 in /usr/local/lib/python3.6/dist-packages (from seaborn) (1.16.5)\n",
      "Requirement already satisfied: matplotlib>=1.4.3 in /usr/local/lib/python3.6/dist-packages (from seaborn) (3.0.3)\n",
      "Requirement already satisfied: scipy>=0.14.0 in /usr/local/lib/python3.6/dist-packages (from seaborn) (1.3.1)\n",
      "Requirement already satisfied: pytz>=2011k in /usr/local/lib/python3.6/dist-packages (from pandas>=0.15.2->seaborn) (2018.9)\n",
      "Requirement already satisfied: python-dateutil>=2.5.0 in /usr/local/lib/python3.6/dist-packages (from pandas>=0.15.2->seaborn) (2.5.3)\n",
      "Requirement already satisfied: pyparsing!=2.0.4,!=2.1.2,!=2.1.6,>=2.0.1 in /usr/local/lib/python3.6/dist-packages (from matplotlib>=1.4.3->seaborn) (2.4.2)\n",
      "Requirement already satisfied: cycler>=0.10 in /usr/local/lib/python3.6/dist-packages (from matplotlib>=1.4.3->seaborn) (0.10.0)\n",
      "Requirement already satisfied: kiwisolver>=1.0.1 in /usr/local/lib/python3.6/dist-packages (from matplotlib>=1.4.3->seaborn) (1.1.0)\n",
      "Requirement already satisfied: six>=1.5 in /usr/local/lib/python3.6/dist-packages (from python-dateutil>=2.5.0->pandas>=0.15.2->seaborn) (1.12.0)\n",
      "Requirement already satisfied: setuptools in /usr/local/lib/python3.6/dist-packages (from kiwisolver>=1.0.1->matplotlib>=1.4.3->seaborn) (41.2.0)\n"
     ]
    }
   ],
   "source": [
    "# Install the latest Tensorflow version.\n",
    "!pip3 install --quiet \"tensorflow>=1.7\"\n",
    "# Install TF-Hub.\n",
    "!pip3 install --quiet tensorflow-hub\n",
    "!pip3 install seaborn"
   ]
  },
  {
   "cell_type": "markdown",
   "metadata": {
    "colab_type": "text",
    "id": "63Pd3nJnTl-i"
   },
   "source": [
    "More detailed information about installing Tensorflow can be found at [https://www.tensorflow.org/install/](https://www.tensorflow.org/install/)."
   ]
  },
  {
   "cell_type": "code",
   "execution_count": 1,
   "metadata": {
    "colab": {
     "base_uri": "https://localhost:8080/",
     "height": 128
    },
    "colab_type": "code",
    "id": "5bXdreR3-8fY",
    "outputId": "e85b06fc-9c48-4e1e-a55d-e1673e1b8065"
   },
   "outputs": [
    {
     "name": "stdout",
     "output_type": "stream",
     "text": [
      "Go to this URL in a browser: https://accounts.google.com/o/oauth2/auth?client_id=947318989803-6bn6qk8qdgf4n4g3pfee6491hc0brc4i.apps.googleusercontent.com&redirect_uri=urn%3Aietf%3Awg%3Aoauth%3A2.0%3Aoob&scope=email%20https%3A%2F%2Fwww.googleapis.com%2Fauth%2Fdocs.test%20https%3A%2F%2Fwww.googleapis.com%2Fauth%2Fdrive%20https%3A%2F%2Fwww.googleapis.com%2Fauth%2Fdrive.photos.readonly%20https%3A%2F%2Fwww.googleapis.com%2Fauth%2Fpeopleapi.readonly&response_type=code\n",
      "\n",
      "Enter your authorization code:\n",
      "··········\n",
      "Mounted at /content/drive\n"
     ]
    }
   ],
   "source": [
    "from google.colab import drive\n",
    "drive.mount('/content/drive')"
   ]
  },
  {
   "cell_type": "code",
   "execution_count": 0,
   "metadata": {
    "colab": {
     "base_uri": "https://localhost:8080/",
     "height": 35
    },
    "colab_type": "code",
    "id": "MSeY-MUQo2Ha",
    "outputId": "605e6f65-7dfa-482e-8f0f-9b693c0b9c3c"
   },
   "outputs": [
    {
     "name": "stderr",
     "output_type": "stream",
     "text": [
      "Using TensorFlow backend.\n"
     ]
    }
   ],
   "source": [
    "import tensorflow as tf\n",
    "import tensorflow_hub as hub\n",
    "import matplotlib.pyplot as plt\n",
    "import numpy as np\n",
    "import os\n",
    "import pandas as pd\n",
    "import re\n",
    "import seaborn as sns\n",
    "import keras.layers as layers\n",
    "from keras.models import Model\n",
    "from keras import backend as K\n",
    "np.random.seed(10)"
   ]
  },
  {
   "cell_type": "code",
   "execution_count": 0,
   "metadata": {
    "colab": {},
    "colab_type": "code",
    "id": "zwty8Z6mAkdV"
   },
   "outputs": [],
   "source": [
    "module_url = \"https://tfhub.dev/google/universal-sentence-encoder-large/3\" #@param [\"https://tfhub.dev/google/universal-sentence-encoder/2\", \"https://tfhub.dev/google/universal-sentence-encoder-large/3\"]\n",
    "embed = hub.Module(module_url)"
   ]
  },
  {
   "cell_type": "code",
   "execution_count": 0,
   "metadata": {
    "colab": {
     "base_uri": "https://localhost:8080/",
     "height": 35
    },
    "colab_type": "code",
    "id": "O2cYc2WEkSGP",
    "outputId": "b8343501-f4f4-4445-e599-e2500a8a1a79"
   },
   "outputs": [
    {
     "data": {
      "text/plain": [
       "512"
      ]
     },
     "execution_count": 5,
     "metadata": {
      "tags": []
     },
     "output_type": "execute_result"
    }
   ],
   "source": [
    "embed_size = embed.get_output_info_dict()['default'].get_shape()[1].value\n",
    "embed_size"
   ]
  },
  {
   "cell_type": "code",
   "execution_count": 0,
   "metadata": {
    "colab": {},
    "colab_type": "code",
    "id": "4TkOWZyCFmZN"
   },
   "outputs": [],
   "source": [
    "import pandas as pd\n",
    "Output_df = pd.read_excel(\"./drive/My Drive/cleansed_organic/GPT2_statements_output.xlsx\")\n",
    "from sklearn.model_selection import train_test_split\n",
    "df_train, df_test = train_test_split(Output_df, test_size=0.2)"
   ]
  },
  {
   "cell_type": "code",
   "execution_count": 0,
   "metadata": {
    "colab": {
     "base_uri": "https://localhost:8080/",
     "height": 126
    },
    "colab_type": "code",
    "id": "VTvxsefv_lcJ",
    "outputId": "4935a20a-6356-46c8-c0df-3b8eca324a43"
   },
   "outputs": [
    {
     "name": "stderr",
     "output_type": "stream",
     "text": [
      "/usr/local/lib/python3.6/dist-packages/pandas/core/generic.py:5096: SettingWithCopyWarning: \n",
      "A value is trying to be set on a copy of a slice from a DataFrame.\n",
      "Try using .loc[row_indexer,col_indexer] = value instead\n",
      "\n",
      "See the caveats in the documentation: http://pandas.pydata.org/pandas-docs/stable/indexing.html#indexing-view-versus-copy\n",
      "  self[name] = value\n"
     ]
    }
   ],
   "source": [
    "\n",
    "df_train.Label = df_train.Label.astype('category')"
   ]
  },
  {
   "cell_type": "code",
   "execution_count": 0,
   "metadata": {
    "colab": {
     "base_uri": "https://localhost:8080/",
     "height": 198
    },
    "colab_type": "code",
    "id": "74_geFVHAJUf",
    "outputId": "079358a1-c372-46e7-92aa-9cc7c653f81e"
   },
   "outputs": [
    {
     "data": {
      "text/html": [
       "<div>\n",
       "<style scoped>\n",
       "    .dataframe tbody tr th:only-of-type {\n",
       "        vertical-align: middle;\n",
       "    }\n",
       "\n",
       "    .dataframe tbody tr th {\n",
       "        vertical-align: top;\n",
       "    }\n",
       "\n",
       "    .dataframe thead th {\n",
       "        text-align: right;\n",
       "    }\n",
       "</style>\n",
       "<table border=\"1\" class=\"dataframe\">\n",
       "  <thead>\n",
       "    <tr style=\"text-align: right;\">\n",
       "      <th></th>\n",
       "      <th>Output</th>\n",
       "      <th>Label</th>\n",
       "    </tr>\n",
       "  </thead>\n",
       "  <tbody>\n",
       "    <tr>\n",
       "      <th>1254</th>\n",
       "      <td>The Organic food system suffers from the agroi...</td>\n",
       "      <td>n</td>\n",
       "    </tr>\n",
       "    <tr>\n",
       "      <th>744</th>\n",
       "      <td>Organic products  are expensive, probably bett...</td>\n",
       "      <td>n</td>\n",
       "    </tr>\n",
       "    <tr>\n",
       "      <th>990</th>\n",
       "      <td>Organic label  criteria are appropriate for a ...</td>\n",
       "      <td>n</td>\n",
       "    </tr>\n",
       "    <tr>\n",
       "      <th>661</th>\n",
       "      <td>Organic products  contain no or less chemical ...</td>\n",
       "      <td>n</td>\n",
       "    </tr>\n",
       "    <tr>\n",
       "      <th>1839</th>\n",
       "      <td>Organic food  yields cannot feed the world; it...</td>\n",
       "      <td>0</td>\n",
       "    </tr>\n",
       "  </tbody>\n",
       "</table>\n",
       "</div>"
      ],
      "text/plain": [
       "                                                 Output Label\n",
       "1254  The Organic food system suffers from the agroi...     n\n",
       "744   Organic products  are expensive, probably bett...     n\n",
       "990   Organic label  criteria are appropriate for a ...     n\n",
       "661   Organic products  contain no or less chemical ...     n\n",
       "1839  Organic food  yields cannot feed the world; it...     0"
      ]
     },
     "execution_count": 8,
     "metadata": {
      "tags": []
     },
     "output_type": "execute_result"
    }
   ],
   "source": [
    "df_train.head()"
   ]
  },
  {
   "cell_type": "code",
   "execution_count": 0,
   "metadata": {
    "colab": {
     "base_uri": "https://localhost:8080/",
     "height": 35
    },
    "colab_type": "code",
    "id": "3HAtd4X5DayF",
    "outputId": "d8f0c23a-1fd4-4a64-da44-7ab9c611977d"
   },
   "outputs": [
    {
     "data": {
      "text/plain": [
       "3"
      ]
     },
     "execution_count": 9,
     "metadata": {
      "tags": []
     },
     "output_type": "execute_result"
    }
   ],
   "source": [
    "category_counts = len(df_train.Label.cat.categories)\n",
    "category_counts"
   ]
  },
  {
   "cell_type": "code",
   "execution_count": 0,
   "metadata": {
    "colab": {
     "base_uri": "https://localhost:8080/",
     "height": 108
    },
    "colab_type": "code",
    "id": "AlygtqSa1aRb",
    "outputId": "93f05304-d164-4345-9a83-ac0b8d1152f1"
   },
   "outputs": [
    {
     "name": "stdout",
     "output_type": "stream",
     "text": [
      "Label\n",
      "0    534\n",
      "n    525\n",
      "p    525\n",
      "dtype: int64\n"
     ]
    }
   ],
   "source": [
    "print(df_train.groupby('Label').size())"
   ]
  },
  {
   "cell_type": "markdown",
   "metadata": {
    "colab_type": "text",
    "id": "Sf9A4Xl6J7c6"
   },
   "source": [
    "## Wrap embed module in a Lambda layer\n",
    "Explicitly cast the input as a string"
   ]
  },
  {
   "cell_type": "code",
   "execution_count": 0,
   "metadata": {
    "colab": {},
    "colab_type": "code",
    "id": "PRD3fWgJjOrP"
   },
   "outputs": [],
   "source": [
    "def UniversalEmbedding(x):\n",
    "    return embed(tf.squeeze(tf.cast(x, tf.string)), signature=\"default\", as_dict=True)[\"default\"]"
   ]
  },
  {
   "cell_type": "code",
   "execution_count": 0,
   "metadata": {
    "colab": {
     "base_uri": "https://localhost:8080/",
     "height": 510
    },
    "colab_type": "code",
    "id": "t3fllZkVjXKV",
    "outputId": "46832a58-0770-412b-f59c-b547bb3880b9"
   },
   "outputs": [
    {
     "name": "stdout",
     "output_type": "stream",
     "text": [
      "WARNING:tensorflow:From /usr/local/lib/python3.6/dist-packages/keras/backend/tensorflow_backend.py:66: The name tf.get_default_graph is deprecated. Please use tf.compat.v1.get_default_graph instead.\n",
      "\n"
     ]
    },
    {
     "name": "stderr",
     "output_type": "stream",
     "text": [
      "WARNING:tensorflow:From /usr/local/lib/python3.6/dist-packages/keras/backend/tensorflow_backend.py:66: The name tf.get_default_graph is deprecated. Please use tf.compat.v1.get_default_graph instead.\n",
      "\n"
     ]
    },
    {
     "name": "stdout",
     "output_type": "stream",
     "text": [
      "INFO:tensorflow:Saver not created because there are no variables in the graph to restore\n"
     ]
    },
    {
     "name": "stderr",
     "output_type": "stream",
     "text": [
      "INFO:tensorflow:Saver not created because there are no variables in the graph to restore\n"
     ]
    },
    {
     "name": "stdout",
     "output_type": "stream",
     "text": [
      "WARNING:tensorflow:From /usr/local/lib/python3.6/dist-packages/keras/optimizers.py:793: The name tf.train.Optimizer is deprecated. Please use tf.compat.v1.train.Optimizer instead.\n",
      "\n"
     ]
    },
    {
     "name": "stderr",
     "output_type": "stream",
     "text": [
      "WARNING:tensorflow:From /usr/local/lib/python3.6/dist-packages/keras/optimizers.py:793: The name tf.train.Optimizer is deprecated. Please use tf.compat.v1.train.Optimizer instead.\n",
      "\n"
     ]
    },
    {
     "name": "stdout",
     "output_type": "stream",
     "text": [
      "Model: \"model_1\"\n",
      "_________________________________________________________________\n",
      "Layer (type)                 Output Shape              Param #   \n",
      "=================================================================\n",
      "input_1 (InputLayer)         (None, 1)                 0         \n",
      "_________________________________________________________________\n",
      "lambda_1 (Lambda)            (None, 512)               0         \n",
      "_________________________________________________________________\n",
      "dense_1 (Dense)              (None, 256)               131328    \n",
      "_________________________________________________________________\n",
      "dense_2 (Dense)              (None, 3)                 771       \n",
      "=================================================================\n",
      "Total params: 132,099\n",
      "Trainable params: 132,099\n",
      "Non-trainable params: 0\n",
      "_________________________________________________________________\n"
     ]
    }
   ],
   "source": [
    "input_text = layers.Input(shape=(1,), dtype=tf.string)\n",
    "embedding = layers.Lambda(UniversalEmbedding, output_shape=(embed_size,))(input_text)\n",
    "dense = layers.Dense(256, activation='relu')(embedding)\n",
    "pred = layers.Dense(category_counts, activation='softmax')(dense)\n",
    "model = Model(inputs=[input_text], outputs=pred)\n",
    "model.compile(loss='categorical_crossentropy', optimizer='adam', metrics=['accuracy'])\n",
    "model.summary()"
   ]
  },
  {
   "cell_type": "code",
   "execution_count": 0,
   "metadata": {
    "colab": {},
    "colab_type": "code",
    "id": "5Ube1DvYEJ3q"
   },
   "outputs": [],
   "source": [
    "train_text = df_train['Output'].tolist()\n",
    "train_text = np.array(train_text, dtype=object)[:, np.newaxis]\n",
    "\n",
    "train_label = np.asarray(pd.get_dummies(df_train.Label), dtype = np.int8)"
   ]
  },
  {
   "cell_type": "code",
   "execution_count": 0,
   "metadata": {
    "colab": {
     "base_uri": "https://localhost:8080/",
     "height": 35
    },
    "colab_type": "code",
    "id": "WX3s8yIVFWHI",
    "outputId": "95275203-a54f-40bd-9c5a-d8c003aa04f4"
   },
   "outputs": [
    {
     "data": {
      "text/plain": [
       "(1584, 1)"
      ]
     },
     "execution_count": 14,
     "metadata": {
      "tags": []
     },
     "output_type": "execute_result"
    }
   ],
   "source": [
    "train_text.shape"
   ]
  },
  {
   "cell_type": "code",
   "execution_count": 0,
   "metadata": {
    "colab": {
     "base_uri": "https://localhost:8080/",
     "height": 35
    },
    "colab_type": "code",
    "id": "9PfsPdG8FZBI",
    "outputId": "e780f909-d27c-41f2-c425-e768b83e9667"
   },
   "outputs": [
    {
     "data": {
      "text/plain": [
       "(1584, 3)"
      ]
     },
     "execution_count": 15,
     "metadata": {
      "tags": []
     },
     "output_type": "execute_result"
    }
   ],
   "source": [
    "train_label.shape"
   ]
  },
  {
   "cell_type": "code",
   "execution_count": 0,
   "metadata": {
    "colab": {
     "base_uri": "https://localhost:8080/",
     "height": 72
    },
    "colab_type": "code",
    "id": "gPYVmBr2Fbob",
    "outputId": "72594e82-8f51-4051-b26b-3a39d7eee97a"
   },
   "outputs": [
    {
     "data": {
      "text/plain": [
       "array([[0, 1, 0],\n",
       "       [0, 1, 0],\n",
       "       [0, 1, 0]], dtype=int8)"
      ]
     },
     "execution_count": 16,
     "metadata": {
      "tags": []
     },
     "output_type": "execute_result"
    }
   ],
   "source": [
    "train_label[:3]"
   ]
  },
  {
   "cell_type": "code",
   "execution_count": 0,
   "metadata": {
    "colab": {
     "base_uri": "https://localhost:8080/",
     "height": 126
    },
    "colab_type": "code",
    "id": "X9MJnOnKI6F0",
    "outputId": "c836274b-e082-4338-bc24-5ce242a67e44"
   },
   "outputs": [
    {
     "name": "stderr",
     "output_type": "stream",
     "text": [
      "/usr/local/lib/python3.6/dist-packages/pandas/core/generic.py:5096: SettingWithCopyWarning: \n",
      "A value is trying to be set on a copy of a slice from a DataFrame.\n",
      "Try using .loc[row_indexer,col_indexer] = value instead\n",
      "\n",
      "See the caveats in the documentation: http://pandas.pydata.org/pandas-docs/stable/indexing.html#indexing-view-versus-copy\n",
      "  self[name] = value\n"
     ]
    }
   ],
   "source": [
    "# df_test = pd.read_pickle(\"./drive/My Drive/cleansed_organic/cleansed_fine_tune_organic_full_validation.pkl\")\n",
    "df_test.Label = df_test.Label.astype('category')"
   ]
  },
  {
   "cell_type": "code",
   "execution_count": 0,
   "metadata": {
    "colab": {},
    "colab_type": "code",
    "id": "QWAjtjdeI9P4"
   },
   "outputs": [],
   "source": [
    "test_text = df_test['Output'].tolist()\n",
    "test_text = np.array(test_text, dtype=object)[:, np.newaxis]\n",
    "test_label = np.asarray(pd.get_dummies(df_test.Label), dtype = np.int8)"
   ]
  },
  {
   "cell_type": "code",
   "execution_count": 0,
   "metadata": {
    "colab": {
     "base_uri": "https://localhost:8080/",
     "height": 35
    },
    "colab_type": "code",
    "id": "J7CtxLhTB_Ue",
    "outputId": "6b632cfc-b3a0-4114-ca9c-29b77c4b4e6e"
   },
   "outputs": [
    {
     "data": {
      "text/plain": [
       "(396, 1)"
      ]
     },
     "execution_count": 19,
     "metadata": {
      "tags": []
     },
     "output_type": "execute_result"
    }
   ],
   "source": [
    "test_text.shape"
   ]
  },
  {
   "cell_type": "code",
   "execution_count": 0,
   "metadata": {
    "colab": {
     "base_uri": "https://localhost:8080/",
     "height": 35
    },
    "colab_type": "code",
    "id": "MD8A2vfnCAqx",
    "outputId": "c09fe308-9256-4b13-e262-ebacae94c92d"
   },
   "outputs": [
    {
     "data": {
      "text/plain": [
       "(396, 3)"
      ]
     },
     "execution_count": 20,
     "metadata": {
      "tags": []
     },
     "output_type": "execute_result"
    }
   ],
   "source": [
    "test_label.shape"
   ]
  },
  {
   "cell_type": "markdown",
   "metadata": {
    "colab_type": "text",
    "id": "bqcRy_JWXe0u"
   },
   "source": [
    "## Train Keras model and save weights\n",
    "This only train and save our Keras layers not the embed module' weights."
   ]
  },
  {
   "cell_type": "code",
   "execution_count": 0,
   "metadata": {
    "colab": {
     "base_uri": "https://localhost:8080/",
     "height": 819
    },
    "colab_type": "code",
    "id": "nWgrW7I1bNdG",
    "outputId": "055d26a7-37e2-452e-81c4-b5af880fd3cf"
   },
   "outputs": [
    {
     "name": "stdout",
     "output_type": "stream",
     "text": [
      "WARNING:tensorflow:From /usr/local/lib/python3.6/dist-packages/tensorflow/python/ops/math_grad.py:1250: add_dispatch_support.<locals>.wrapper (from tensorflow.python.ops.array_ops) is deprecated and will be removed in a future version.\n",
      "Instructions for updating:\n",
      "Use tf.where in 2.0, which has the same broadcast rule as np.where\n"
     ]
    },
    {
     "name": "stderr",
     "output_type": "stream",
     "text": [
      "WARNING:tensorflow:From /usr/local/lib/python3.6/dist-packages/tensorflow/python/ops/math_grad.py:1250: add_dispatch_support.<locals>.wrapper (from tensorflow.python.ops.array_ops) is deprecated and will be removed in a future version.\n",
      "Instructions for updating:\n",
      "Use tf.where in 2.0, which has the same broadcast rule as np.where\n"
     ]
    },
    {
     "name": "stdout",
     "output_type": "stream",
     "text": [
      "WARNING:tensorflow:From /usr/local/lib/python3.6/dist-packages/keras/backend/tensorflow_backend.py:1033: The name tf.assign_add is deprecated. Please use tf.compat.v1.assign_add instead.\n",
      "\n"
     ]
    },
    {
     "name": "stderr",
     "output_type": "stream",
     "text": [
      "WARNING:tensorflow:From /usr/local/lib/python3.6/dist-packages/keras/backend/tensorflow_backend.py:1033: The name tf.assign_add is deprecated. Please use tf.compat.v1.assign_add instead.\n",
      "\n"
     ]
    },
    {
     "name": "stdout",
     "output_type": "stream",
     "text": [
      "Train on 1584 samples, validate on 396 samples\n",
      "Epoch 1/16\n",
      "1584/1584 [==============================] - 11s 7ms/step - loss: 1.0702 - acc: 0.4874 - val_loss: 1.0330 - val_acc: 0.5328\n",
      "Epoch 2/16\n",
      "1584/1584 [==============================] - 8s 5ms/step - loss: 1.0021 - acc: 0.6143 - val_loss: 0.9647 - val_acc: 0.6768\n",
      "Epoch 3/16\n",
      "1584/1584 [==============================] - 8s 5ms/step - loss: 0.9331 - acc: 0.6471 - val_loss: 0.9009 - val_acc: 0.6717\n",
      "Epoch 4/16\n",
      "1584/1584 [==============================] - 8s 5ms/step - loss: 0.8744 - acc: 0.6717 - val_loss: 0.8367 - val_acc: 0.7273\n",
      "Epoch 5/16\n",
      "1584/1584 [==============================] - 8s 5ms/step - loss: 0.8151 - acc: 0.7020 - val_loss: 0.7862 - val_acc: 0.7298\n",
      "Epoch 6/16\n",
      "1584/1584 [==============================] - 8s 5ms/step - loss: 0.7675 - acc: 0.7077 - val_loss: 0.7433 - val_acc: 0.7374\n",
      "Epoch 7/16\n",
      "1584/1584 [==============================] - 8s 5ms/step - loss: 0.7298 - acc: 0.7260 - val_loss: 0.7090 - val_acc: 0.7475\n",
      "Epoch 8/16\n",
      "1584/1584 [==============================] - 8s 5ms/step - loss: 0.6978 - acc: 0.7266 - val_loss: 0.6775 - val_acc: 0.7601\n",
      "Epoch 9/16\n",
      "1584/1584 [==============================] - 8s 5ms/step - loss: 0.6675 - acc: 0.7405 - val_loss: 0.6567 - val_acc: 0.7677\n",
      "Epoch 10/16\n",
      "1584/1584 [==============================] - 8s 5ms/step - loss: 0.6495 - acc: 0.7386 - val_loss: 0.6357 - val_acc: 0.7727\n",
      "Epoch 11/16\n",
      "1584/1584 [==============================] - 8s 5ms/step - loss: 0.6222 - acc: 0.7462 - val_loss: 0.6184 - val_acc: 0.7551\n",
      "Epoch 12/16\n",
      "1584/1584 [==============================] - 8s 5ms/step - loss: 0.6044 - acc: 0.7620 - val_loss: 0.5990 - val_acc: 0.7727\n",
      "Epoch 13/16\n",
      "1584/1584 [==============================] - 8s 5ms/step - loss: 0.5831 - acc: 0.7652 - val_loss: 0.5898 - val_acc: 0.7753\n",
      "Epoch 14/16\n",
      "1584/1584 [==============================] - 8s 5ms/step - loss: 0.5695 - acc: 0.7727 - val_loss: 0.5766 - val_acc: 0.7753\n",
      "Epoch 15/16\n",
      "1584/1584 [==============================] - 8s 5ms/step - loss: 0.5521 - acc: 0.7784 - val_loss: 0.5629 - val_acc: 0.7904\n",
      "Epoch 16/16\n",
      "1584/1584 [==============================] - 8s 5ms/step - loss: 0.5474 - acc: 0.7822 - val_loss: 0.5483 - val_acc: 0.8030\n"
     ]
    }
   ],
   "source": [
    "with tf.Session() as session:\n",
    "  K.set_session(session)\n",
    "  session.run(tf.global_variables_initializer())\n",
    "  session.run(tf.tables_initializer())\n",
    "  history = model.fit(train_text, \n",
    "            train_label,\n",
    "            validation_data=(test_text, test_label),\n",
    "            epochs=16,\n",
    "            batch_size=128)\n",
    "  model.save_weights('./drive/My Drive/cleansed_organic/model5.h5')"
   ]
  },
  {
   "cell_type": "code",
   "execution_count": 0,
   "metadata": {
    "colab": {
     "base_uri": "https://localhost:8080/",
     "height": 637
    },
    "colab_type": "code",
    "id": "f06DKLR332xA",
    "outputId": "a138b87b-ca3e-448e-b82c-af1c58fd72dd"
   },
   "outputs": [
    {
     "name": "stdout",
     "output_type": "stream",
     "text": [
      "WARNING:tensorflow:From /usr/local/lib/python3.6/dist-packages/tensorflow_core/python/ops/math_grad.py:1424: where (from tensorflow.python.ops.array_ops) is deprecated and will be removed in a future version.\n",
      "Instructions for updating:\n",
      "Use tf.where in 2.0, which has the same broadcast rule as np.where\n"
     ]
    },
    {
     "name": "stderr",
     "output_type": "stream",
     "text": [
      "WARNING:tensorflow:From /usr/local/lib/python3.6/dist-packages/tensorflow_core/python/ops/math_grad.py:1424: where (from tensorflow.python.ops.array_ops) is deprecated and will be removed in a future version.\n",
      "Instructions for updating:\n",
      "Use tf.where in 2.0, which has the same broadcast rule as np.where\n"
     ]
    },
    {
     "name": "stdout",
     "output_type": "stream",
     "text": [
      "Train on 1584 samples, validate on 396 samples\n",
      "Epoch 1/13\n",
      "1584/1584 [==============================] - 11s 7ms/step - loss: 1.0702 - acc: 0.4874 - val_loss: 1.0330 - val_acc: 0.5328\n",
      "Epoch 2/13\n",
      "1584/1584 [==============================] - 7s 5ms/step - loss: 1.0021 - acc: 0.6143 - val_loss: 0.9647 - val_acc: 0.6768\n",
      "Epoch 3/13\n",
      "1584/1584 [==============================] - 7s 5ms/step - loss: 0.9331 - acc: 0.6471 - val_loss: 0.9009 - val_acc: 0.6717\n",
      "Epoch 4/13\n",
      "1584/1584 [==============================] - 7s 5ms/step - loss: 0.8744 - acc: 0.6717 - val_loss: 0.8367 - val_acc: 0.7273\n",
      "Epoch 5/13\n",
      "1584/1584 [==============================] - 7s 5ms/step - loss: 0.8151 - acc: 0.7020 - val_loss: 0.7862 - val_acc: 0.7298\n",
      "Epoch 6/13\n",
      "1584/1584 [==============================] - 7s 5ms/step - loss: 0.7675 - acc: 0.7077 - val_loss: 0.7433 - val_acc: 0.7374\n",
      "Epoch 7/13\n",
      "1584/1584 [==============================] - 7s 5ms/step - loss: 0.7298 - acc: 0.7260 - val_loss: 0.7090 - val_acc: 0.7475\n",
      "Epoch 8/13\n",
      "1584/1584 [==============================] - 7s 5ms/step - loss: 0.6978 - acc: 0.7266 - val_loss: 0.6775 - val_acc: 0.7601\n",
      "Epoch 9/13\n",
      "1584/1584 [==============================] - 8s 5ms/step - loss: 0.6675 - acc: 0.7405 - val_loss: 0.6567 - val_acc: 0.7677\n",
      "Epoch 10/13\n",
      "1584/1584 [==============================] - 8s 5ms/step - loss: 0.6495 - acc: 0.7386 - val_loss: 0.6357 - val_acc: 0.7727\n",
      "Epoch 11/13\n",
      "1584/1584 [==============================] - 8s 5ms/step - loss: 0.6222 - acc: 0.7462 - val_loss: 0.6184 - val_acc: 0.7551\n",
      "Epoch 12/13\n",
      "1584/1584 [==============================] - 7s 5ms/step - loss: 0.6044 - acc: 0.7620 - val_loss: 0.5990 - val_acc: 0.7727\n",
      "Epoch 13/13\n",
      "1584/1584 [==============================] - 8s 5ms/step - loss: 0.5831 - acc: 0.7652 - val_loss: 0.5898 - val_acc: 0.7753\n"
     ]
    }
   ],
   "source": [
    "with tf.Session() as session:\n",
    "  K.set_session(session)\n",
    "  session.run(tf.global_variables_initializer())\n",
    "  session.run(tf.tables_initializer())\n",
    "  history = model.fit(train_text, \n",
    "            train_label,\n",
    "            validation_data=(test_text, test_label),\n",
    "            epochs=13,\n",
    "            batch_size=128)\n",
    "  model.save_weights('./drive/My Drive/cleansed_organic/model6.h5')"
   ]
  },
  {
   "cell_type": "markdown",
   "metadata": {
    "colab_type": "text",
    "id": "nQux6qLdXabG"
   },
   "source": [
    "## Make predictions"
   ]
  },
  {
   "cell_type": "code",
   "execution_count": 0,
   "metadata": {
    "colab": {
     "base_uri": "https://localhost:8080/",
     "height": 1000
    },
    "colab_type": "code",
    "id": "CE9-PimeG1_o",
    "outputId": "c1e78423-1c86-447d-983a-88a5855efb02"
   },
   "outputs": [
    {
     "name": "stdout",
     "output_type": "stream",
     "text": [
      "new_text [['Muir Glen Organic uses BPA free cans and it is stated on the back of the can in small print \"The lining of this can was produced without BPA.\"']\n",
      " ['Beware that just because a product is organic does not mean the can is BPA free.']\n",
      " ['We hear it time and again that organic food is better for health.']\n",
      " ['While shopping, we even look for the ‘organic’ label on the products.']\n",
      " ['But have we ever thought that why organic products are good?']\n",
      " ['It is proved by various studies that organic products have certain benefits but to what extent that isn’t always clear.']\n",
      " ['Some organic products are definitely more important than others and organic tea is no doubt a smarter choice than conventional tea.']\n",
      " ['Check out the reasons for buying and drinking organic tea are: Chemical free- The first reason to buy organic tea is that it is grown without the using any harmful chemical- fertilizer, pesticides, fungicides, or herbicides.']\n",
      " ['As proved by various researchers, these chemicals have harmful effects not only on the consumers but also on the environment and farmers.']\n",
      " ['Choosing organic tea over conventional tea would means no chemicals in your cup and safer environment.']\n",
      " ['Beyond that, the organic standards vary from country to country.']\n",
      " ['In effect, this makes animals a vehicle for laundering nutrients.']\n",
      " ['Some organic standards, like those in the European Union, are a bit more stringent.']\n",
      " ['I mention the dependence of modern organic agriculture on conventional agriculture because we need to be careful about prescribing organic as a solution for the whole world.']\n",
      " ['In the grocery store, we are often faced with the choice of organic versus conventional.']\n",
      " ['My experience is that organic prices are coming down.']\n",
      " ['Organic romaine lettuce for $3, I just bought 2 organic cantaloupes for $6.']\n",
      " ['More organic is getting to the grocery stores (or in my case warehouse food delivery) and that is driving the prices down because it’s not so rare.']\n",
      " ['I read an article to further learn about this and this website has a lot of information about the organic industry and organic products.']\n",
      " ['Though on the Justin\\'s website [2], it says: \"In order to make sure our nut butters are of the highest safety and quality, Justin’s goes to great lengths to double test for aflatoxins, and maintains extremely detailed records and safety certification reports for each and every batch.']\n",
      " ['The aflatoxin levels in all of our nut butters are well below the maximum amount regulated by the FDA, and fall within a range of 0-15 ppb.\"']\n",
      " [\"Though I have yet to try the apparently excellent raw, organic almond butter from Living Tree Community Foods -------------------------- Sources: [1] Friday Food Fight: Organic vs Natural Peanut Butter accessed Jan 2015 [2] Our Products - Justin's accessed Jan 2015\"]\n",
      " ['The main reason real organic eggs are brown is that most the heirloom chicken breeds that forage well lay brown eggs.']\n",
      " ['The organic eggs at the market are probably not real though.']\n",
      " ['Most likely they are raised just like the other eggs, but with a small porch and a door flap the chickens never use and might not even know exists at all; and organic certified feed.']\n",
      " ['But these certified organic eggs that are 97% likely to be not meaningfully different than other eggs, need to look like real organic eggs.']\n",
      " ['So they chose an egg that looks the part, brown.']\n",
      " ['There is such a thing as real organic eggs.']\n",
      " ['It has not much to do if the eggs are certified organic or not, and the eggs can be any color at all on the outside.']\n",
      " ['You can spot them usually by the color of the egg yolk.']\n",
      " ['Or you can test them nutritionally.']\n",
      " ['They are off the charts more nutritious.']\n",
      " ['Meet Real Free-Range Eggs - Real Food - MOTHER EARTH NEWS But as you will find out, actually most the farmers raising real ones are rebelling against the USDA organic regulatory burden and corruption and those real ones are very likely NOT to be certified organic.']\n",
      " ['The best thing you can do to find the good eggs is go to the farmers market or a CSA.']\n",
      " ['This is a little more labor but avoids the bare patches right beside the coop and includes the hens in the cattle rotation for even a better quality “Beyond Organic”:']\n",
      " ['Organic products must be produced without conventional pesticides, fertilizers made with synthetic ingredients or sewage sludge, bioengineering, or ionizing radiation.']\n",
      " ['Meat, poultry, eggs, and dairy products must come from animals that are not given antibiotics or growth hormones.']\n",
      " [\"In addition, government-approved certifiers must inspect the farm where the products are grown or raised to make sure the USDA's organic rules are being followed.\"]\n",
      " ['Choosing organic during pregnancy depends on only one key factor: what you crave, says registered dietitian Bridget Swinney, author of the books EatingExpectantly, Baby Bites, and Healthy Food for Healthy Kids.']\n",
      " ['She recommends that you keep a journal of what you eat over a period of about two weeks, and then buy organic versions of the foods that top your list.']\n",
      " ['If you are a beef-eater, Dr. Greene suggests choosing grass-fed, organically raised cattle.']\n",
      " ['it is leaner and healthier, and can have up to five times the amount of brain-building omega-3 fatty acids as regular beef.']\n",
      " ['Though the cost of organic meat can be double that of regular, try treating it like a side dish and opt for smaller servings.']\n",
      " ['Also consider another source of organic protein that may be less expensive than beef: soy.']\n",
      " ['But remember that despite its close association to healthy living, soy does not always equate organic.']\n",
      " ['Eighty percent of the soybean crops grown today are genetically modified, which means the genetic code of the food has been altered in a lab to make it more weed- or bug-resistant.']\n",
      " ['Finally, think about switching to organic milk.']\n",
      " ['Pregnant women need to consume a lot of calcium, as much as 1,500 milligrams a day.']\n",
      " ['The reason is that during pregnancy, the calcium transfer from mother to baby reaches 270 milligrams a day.']\n",
      " [\"For that reason, milk is one of Dr. Greene's top organic picks.\"]\n",
      " ['And though the FDA maintains that all types of milk are equally safe, choosing organic means saying no to a whole chemical system of agriculture.']\n",
      " ['Organic should be the foundation of anything that Whole Foods might do.']\n",
      " ['Also, when most people are living pay check to pay check the only thing they see is the price on that sticker.']\n",
      " ['Organic food is not necessarily better for the environment.']\n",
      " ['Organic food is more expensive because producing something while trying to be careful about environmental costs is more expensive, and this added cost is also passed on to the consumer.']\n",
      " ['Organic food from the farm tastes better.']\n",
      " ['Some vegetables and fruits you think had NO taste you can learn the taste, and this improves the variety of food you can prepare.']\n",
      " ['You can tell the seasonal and variety differences in taste.']\n",
      " ['Foods you already love, like oranges or apples for example, you can learn the different tastes per variety and per season, which I could never experience from conventional food (not to the same intensity).']\n",
      " ['Pesticide manufacturers sell seeds that work with their pesticides.']\n",
      " ['There are more nutrients in food that has no poison.']\n",
      " ['More nutrients provides more fuel for our body and brain.']\n",
      " ['Food with more taste and more nutrients is more satisfying.']\n",
      " ['AND the food tastes better!']\n",
      " ['You do not have to break the bank to eat organic, you just have to know how to shop.']\n",
      " ['I am not advocating buying expensive organic food.']\n",
      " ['Yes, Organic food does go faster.']\n",
      " ['I usually do not buy Organic food in large quantities because of this reason... you will find me at the super market at least 3 times a week because of this, but I do not mind since I am not wasting money.']\n",
      " ['I usually do not buy Organic food in large quantities because of this reason... you will find me at the super market at least 3 times a week because of this, but I do not mind since I am not wasting money.']\n",
      " ['But choosing organic milk over non-organic can be a relatively inexpensive way to reduce agricultural pesticides in your diet.']\n",
      " [\"Each year, the Environmental Working Group publish their 'Dirty Dozen' list of fruits and vegetables to avoid if not eating organic and their 'Clean Fifteen' - it is worth having a look at this list in order to decide which you would rather eat organic versions of, and which are not as important to eat organically.\"]\n",
      " ['Apples normally come top of the dirty list, so I would advise only eating organic apples, Organic is a choice, best of luck!']\n",
      " ['Yes, absolutely, because I care about the healthiness of what I eat, the wellbeing of the owners and workers of the farms and processing plants, my local economy, animal cruelty, and respect for the environment.']\n",
      " ['Organic is a flawed designation as many point out, and there are organic factory farms and fraudulently labeled organic.']\n",
      " ['There is nothing about being \"organic\" that will affect the flavor or nutrition of a crop.']\n",
      " ['Well how would you classify beef jerky (processed) that I make from my own cattle (local sustainable)?']\n",
      " ['The summary is that \"organic\" and \"synthetic\" have nothing to do with safety.']\n",
      " ['The difference between organic and GMO is that with organic the pesticide can be washed off.']\n",
      " ['The main points explaining what Organic and Made with Organic Products are: Produce can be called organic if it’s certified to have grown on soil that had no prohibited substances applied for three years prior to harvest.']\n",
      " ['Prohibited substances include most synthetic fertilizers and pesticides.']\n",
      " ['Regulations prohibit organically processed foods from containing artificial preservatives, colors, or flavors and require that their ingredients are organic, with some minor exceptions.']\n",
      " ['For example, processed organic foods may contain some approved non-agricultural ingredients, like enzymes in yogurt, pectin in fruit jams, or baking soda in baked goods.']\n",
      " ['When packaged products indicate they are “made with organic [specific ingredient or food group],” this means they contain at least 70% organically produced ingredients.']\n",
      " ['The remaining non-organic ingredients are produced without using prohibited practices (genetic engineering, for example) but can include substances that would not otherwise be allowed in 100% organic products.']\n",
      " ['“Made with organic” products will not bear the USDA organic seal, but, as with all other organic products, must still identify the USDA-accredited certifier.']\n",
      " ['You can look for the identity of the certifier on a packaged product for verification that the organic product meets USDA’s organic standards.']\n",
      " ['As with all organic foods, none of it is grown or handled using genetically modified organisms, which the organic standards expressly prohibit (see “Organic 101: What Organic Farming (and Processing) Doesn’t Allow”).']\n",
      " ['Natural however has no legal definition in the US, so you cannot assume anything when you see it used.']\n",
      " ['Milk is a notable exception.']\n",
      " ['I eat organic food because the philosophy of organics is important to me.']\n",
      " ['That encompasses far more than just eating food, and as does relate to food it is far more than a simple use of pesticides or not—which itself is a laughable simplification of the concept of organic.']\n",
      " ['Organic food as I mean it might be better referred to as biologically grown.']\n",
      " ['The distinction might be compared to that of raising a child on a healthy and varied diet versus raising a child on a diet of coffee, sugar, and maybe cocaine (which is more comparable to the industrial model of conve tonal agriculture.']\n",
      " ['The point I’m driving at is that organics is about health, definitely.']\n",
      " ['But the health goes beyond the invidvidual.']\n",
      " [\"If this were a local farmer's market in Europe or the US it is in my opinion better than organic.\"]\n",
      " ['Slow and Local and Sustainable are more authentic in practice than Organic.']\n",
      " ['Some related points that might help you are - Majority (62%) of high-income Delhi NCR households will go for organic food over normal food.']\n",
      " [\"(Source: \\x9162% of Delhi-NCR households prefer organic food\\x92) I Say Organic, which is a startup catering to online demand of organic food in NCR is said to be doing a revenue of INR 100K per month (Source: 'I Say Organic' - Seven flourishing food-related start-ups | The Economic Times) You might also have to consider the fact that Online Grocery Sales has not really picked up in NCR (unlike Bangalore, Mumbai et al.).\"]\n",
      " ['Hence offline and online organic sales of organic food can portray drastically different viewpoints.']\n",
      " ['We started a small organic shop which start selling through online.']\n",
      " ['Our main concern about the authenticity and easy to reach to the common people.']\n",
      " ['We are starting our journey with ten of organic products from honey to coconut oil.']\n",
      " ['Whole Foods is the store where organic food is most easily available other than private owned local supermarkets.']\n",
      " ['When you say organic, are you referring to certified organic or organic?']\n",
      " ['Organic food is very hard to come by because true organic food means no artificial toxic pesticides, herbicides, fungicides, definitely no GMOs especially bizarre ones with resistance to herbicides and insects and inability to reproduce and survive in the wild, and no artificial fertilizers but only natural compost material gotten from decayed organic matter.']\n",
      " ['It also means using natural pollinators like bees and insects.']\n",
      " ['For millions of years humans have eaten organic food and it is time tested and nutrient dense.']\n",
      " ['Yes, true organic food may have imperfections in appearance with damage from natural worms, insects, and fungus but that is a sign that the food is healthy and nutritious even for insects and microbes.']\n",
      " ['If you are having health problems then chances are great that you do not have enough organic food in your diet and are eating too much overly processed, nutrient poor, and overly sweetened food and drink.']\n",
      " ['Check for the label: Every organic product comes with the label of authenticity.']\n",
      " ['Without a proper label, no product can be called 100% organic.']\n",
      " ['\"Well,\" he said, as he tore a part a piece of lettuce and threw it into a bowl, \"this is natural food.\"']\n",
      " ['There is no nutritional advantage to organic food.']\n",
      " ['It just costs more, and is more resource intensive than conventional food.']\n",
      " ['Then, does organic milk provide significant long tern advantages?']\n",
      " ['As far as my knowledge goes, it is better to go organic when it comes to fruits which gave a thin skin or those that can be consumed with the peal, for eg.']\n",
      " ['Grape, berries, apple, apricots etc.']\n",
      " ['But if you can afford, it is always best to eat organic produce.']\n",
      " ['Like I say, its a choice and we must make informed choices, I just do not think we have enough answers from the safe pesticide levels camp (not to mention the very real threat of antibiotic resistance, made worse by routine use in non-organic farming) in order to say that organic farming offers no benefit.']\n",
      " ['Also, economies of scale apply less to organic food.']\n",
      " ['\"While I cannot speak for everyone, I primarily buy organic because *I* believe it is...\".']\n",
      " ['Contrary to what you claim, a recent Stanford study (barely 3 months old) published in the Annals of Internal Medicine concluded the following, \"The published literature lacks strong evidence that organic foods are significantly more nutritious than conventional foods.\"']\n",
      " [\"50% higher content in anything considered 'organic'), I am sure many of us would love to know about it.\"]\n",
      " ['[1] Are Organic Foods Safer or Healthier Than Conventional Alternatives?']\n",
      " ['There are many different ‘recipes’ for organic pesticides and insect repellents.']\n",
      " ['Many use ingredients that may be natural or organic but still aren’t good to spray on your food e.g.']\n",
      " ['The Country Farm Lifestyles website has a comprehensive list <URL>\" however the following recipe seems the safest: 4 chillies, 4 large onions, 2 bulbs garlic, 2 L soapy water (you can use an organic castile soap e.g.']\n",
      " ['Because some people, like me, want near perfect food, and are not worried about pesticide residues that are in the part-per-trillion range.']\n",
      " ['And my desire to pay more for near perfect food, and the fact that there are a lot of people like me, is a larger factor in the market place than the ability of you and people like you to buy enough organic food.']\n",
      " ['Of course organic milk is better for people - because of pesticide concentrating if nothing else.']\n",
      " ['Organic produce is having unlimited benefits.']\n",
      " ['Truly Organic food would be that which is not genetically modified, free of chemical pesticides and fertilizers and grown in an environmentally sustaining manner.']\n",
      " ['While it does sound salubrious and worthy, consumers have little opportunity to verify the veracity of the claims.']\n",
      " ['Thus, most of the times, consumers are easily swindled by so called Organic products that are sold at an exorbitant premium.']\n",
      " ['All organic honey are good.']\n",
      " ['There is no grading on that.']\n",
      " ['As long as it is natural (wild) and no adulteration /contamination - then that is best as the Bees collect from multiple wild flowers On the other hand Bee keepers who are into the business of collecting honey commercially, they need to have an Organic flower garden to collect honey.']\n",
      " ['Thus authentic wild honey is the best.']\n",
      " ['Organic food is just any food that hasn’t been grown with the use of pesticides, antibiotics, hormones, etc.']\n",
      " ['Any food can be organic food.']\n",
      " ['Pretty much everything you see is a marketing strategy.']\n",
      " ['Myrightbuy is the largest online organic store in India which offers massive collections of organic products straight from premium brands or from carefully chosen farming partners from different parts of India.']\n",
      " ['An inhouse quality team works closely with the farmers to ensure the purity and quality of the products.']\n",
      " ['Organic bananas, even the large yellow kind, taste more like the smaller sweeter tropical ones than the commercial ones they look like.']\n",
      " [\"I have been using Organica's organic honey like a ayurvedic remedy (not as a sweetener) and it is really good.\"]\n",
      " ['it is a lot denser and darker,and tastes very very sweet.']\n",
      " ['While I accept it may vary depending on location the organic milk is certainly far nicer here than the standard stuff, noticeable difference in taste.']\n",
      " ['The taste of the food depends on freshness and when it was harvested relative to its peak.']\n",
      " ['Whether or not it is organic is irrelevant.']\n",
      " ['If your organic food tastes better, then it may come from a local producer and is simply fresher.']\n",
      " ['Organic food being sold at a premium price or marketed as a premium product will be perceived as better.']\n",
      " ['Craig Good is absolutely correct: organic food is not pesticide free.']\n",
      " ['Labor costs significantly more than pesticide, on a per unit of yield basis, so the overall cost of organic produce increases.']\n",
      " ['If you are a fruitarian or a raw vegan, buying organic food is super expensive but definitely worth it.']\n",
      " ['If you are vegan and eat cooked foods, buying organic is optional as foods cooked at temps higher than 118 degrees lose most of their nutritional value.']\n",
      " ['If you eat processed foods, and you are an omnivore I would not bother buying organic foods.']\n",
      " ['There is no nutritional advantage at all to food labeled \"organic\".']\n",
      " ['It is, however, typically more expensive.']\n",
      " ['Dude, have you seen the list of chemicals allowed to be used on organic products in the USA?']\n",
      " ['The only thing Organic fruit has is lack of pesticides....So if you are taking fruits which has thick skin which you dont eat like avocados,banana..You can go with non organic']\n",
      " ['Engineered foods, processed foods, refined sugar, protein powder, energy gels, etc ... even if they are \"organic\" and \"natural\" are all possibly suspect as they are new.']\n",
      " ['So reduce what is not naturally occurring and eat in moderation.']\n",
      " ['When it comes down to it, purchasing organic tea is no different that purchasing any other organic foodstuff.']\n",
      " ['If you try to buy organic fruits and vegetables, meat grown without antibiotics and growth hormones, or eggs harvested from chickens that can actually walk, it makes sense to buy organic tea.']\n",
      " ['I do not believe that \"organic\" changes the intrinsic nutritional value of the tea.']\n",
      " ['Personally, I buy organic when I can, but I do not go OCD on it.']\n",
      " ['Organic healthy foods are marketed to a niche consumer base.']\n",
      " ['Unfortunately, the rest of the consumer market has not asked for healthy organic products on a wide scale basis.']\n",
      " ['Matcha Green Tea Green organic Matcha Tea is one of the healthiest tea\\'s <URL>\"']\n",
      " ['The benefits of organic food are NOT health-related.']\n",
      " ['it is more likely to be either because the organic farm uses another type of strawberry, or because the organic berries you bought have been allowed to ripen at a more reasonable pace than the others.']\n",
      " ['Neither of which has anything to do with organic farming per se.']\n",
      " ['I am guessing others do not bring it up because the argument they hear most from \"organic\" fans is nutrition.']\n",
      " ['What do I think about people who buy and eat only organic?']\n",
      " ['“Oh no thank you, I won’t eat meat or fish or anything that’s not organic or contains gluten,” said no one ever in the Third World.']\n",
      " ['There is a list called the dirty dozen that specifies certain ones like potatoes and apples should be organic.']\n",
      " ['If you want to grow in large scale buy organic gardening products in bulk.']\n",
      " ['It will save your money and time . ']\n",
      " ['Use Organic Fertilizers, Seeds, Composter and Garden Pots for your Organic Garden.']\n",
      " ['Really, it does not matter if you drink organic milk or \"factory made\" milk.']]\n",
      "predict_labels ['0', 'n', 'p', '0', 'p', '0', '0', '0', 'n', '0', '0', 'n', '0', '0', '0', '0', '0', '0', '0', 'p', 'n', 'p', '0', 'n', '0', '0', '0', '0', '0', '0', '0', 'p', '0', '0', '0', '0', '0', '0', 'p', '0', '0', 'p', '0', '0', '0', '0', 'p', 'n', 'p', 'p', '0', 'p', '0', 'n', 'n', 'p', 'p', '0', 'p', '0', '0', 'p', 'p', 'p', '0', 'n', 'p', '0', '0', '0', '0', 'p', 'p', '0', '0', '0', '0', 'n', '0', '0', '0', 'p', '0', '0', '0', '0', '0', '0', '0', 'p', 'n', '0', 'n', 'p', 'p', 'p', 'p', '0', '0', '0', 'p', 'p', 'p', 'p', '0', '0', 'p', '0', 'n', 'p', '0', '0', '0', '0', 'n', '0', 'p', 'p', 'p', 'n', '0', '0', '0', '0', 'p', '0', 'n', 'p', '0', '0', 'p', '0', '0', 'n', 'n', 'p', 'n', '0', 'p', 'p', 'p', 'n', 'p', 'p', 'p', 'p', 'p', 'p', '0', '0', '0', 'n', '0', '0', '0', '0', '0', '0', 'n', '0', 'n', 'p', 'p', '0', '0', '0', '0', 'p', 'n', 'p', '0', '0', '0', 'n', '0', 'n', '0', 'p', 'n', 'p', '0']\n"
     ]
    },
    {
     "ename": "IndexError",
     "evalue": "ignored",
     "output_type": "error",
     "traceback": [
      "\u001b[0;31m---------------------------------------------------------------------------\u001b[0m",
      "\u001b[0;31mIndexError\u001b[0m                                Traceback (most recent call last)",
      "\u001b[0;32m<ipython-input-22-21bcbb319f6f>\u001b[0m in \u001b[0;36m<module>\u001b[0;34m()\u001b[0m\n\u001b[1;32m     30\u001b[0m \u001b[0;31m#   belief_pd.at[index,'Output_prediction'] = '0'\u001b[0m\u001b[0;34m\u001b[0m\u001b[0;34m\u001b[0m\u001b[0;34m\u001b[0m\u001b[0m\n\u001b[1;32m     31\u001b[0m \u001b[0;31m#   print(index)\u001b[0m\u001b[0;34m\u001b[0m\u001b[0;34m\u001b[0m\u001b[0;34m\u001b[0m\u001b[0m\n\u001b[0;32m---> 32\u001b[0;31m   \u001b[0mbelief_pd\u001b[0m\u001b[0;34m.\u001b[0m\u001b[0mat\u001b[0m\u001b[0;34m[\u001b[0m\u001b[0mindex\u001b[0m\u001b[0;34m,\u001b[0m\u001b[0;34m'Output_prediction'\u001b[0m\u001b[0;34m]\u001b[0m \u001b[0;34m=\u001b[0m \u001b[0mstr\u001b[0m\u001b[0;34m(\u001b[0m\u001b[0mpredict_labels\u001b[0m\u001b[0;34m[\u001b[0m\u001b[0mindex\u001b[0m\u001b[0;34m]\u001b[0m\u001b[0;34m)\u001b[0m\u001b[0;34m\u001b[0m\u001b[0;34m\u001b[0m\u001b[0m\n\u001b[0m\u001b[1;32m     33\u001b[0m \u001b[0;34m\u001b[0m\u001b[0m\n",
      "\u001b[0;31mIndexError\u001b[0m: list index out of range"
     ]
    }
   ],
   "source": [
    "new_text = []\n",
    "belief_pd = pd.read_pickle(\"./drive/My Drive/cleansed_organic/cleansed_fine_tune_organic_products_test.pkl\")\n",
    "belief_pd['Output_prediction'] = ''\n",
    "for index, row in belief_pd.iterrows():\n",
    "  new_text.append(row['Sentence']) \n",
    "\n",
    "\n",
    "new_text = np.array(new_text, dtype=object)[:, np.newaxis]\n",
    "\n",
    "print('new_text', new_text)\n",
    "\n",
    "with tf.Session() as session:\n",
    "  K.set_session(session)\n",
    "  session.run(tf.global_variables_initializer())\n",
    "  session.run(tf.tables_initializer())\n",
    "  model.load_weights('./drive/My Drive/cleansed_organic/model6.h5')  \n",
    "  predicts = model.predict(new_text, batch_size=32)\n",
    "  \n",
    "\n",
    "  \n",
    "categories = df_train.Label.cat.categories.tolist()\n",
    "predict_logits = predicts.argmax(axis=1)\n",
    "\n",
    "# print('predict_logits', predict_logits)\n",
    "\n",
    "predict_labels = [categories[logit] for logit in predict_logits]\n",
    "\n",
    "print('predict_labels', predict_labels)\n",
    "for index, row in belief_pd.iterrows():\n",
    "#   belief_pd.at[index,'Output_prediction'] = '0'\n",
    "#   print(index)\n",
    "  belief_pd.at[index,'Output_prediction'] = str(predict_labels[index])\n",
    "  "
   ]
  },
  {
   "cell_type": "code",
   "execution_count": 0,
   "metadata": {
    "colab": {},
    "colab_type": "code",
    "id": "XI94Uv0TNKnd"
   },
   "outputs": [],
   "source": [
    "belief_pd.to_excel('./drive/My Drive/cleansed_organic/GPT2_statements_prediction_output.xlsx', index = None, header=True, encoding='utf-8-sig')"
   ]
  },
  {
   "cell_type": "code",
   "execution_count": 0,
   "metadata": {
    "colab": {},
    "colab_type": "code",
    "id": "hYhmukbSKpnp"
   },
   "outputs": [],
   "source": []
  }
 ],
 "metadata": {
  "accelerator": "GPU",
  "colab": {
   "collapsed_sections": [],
   "name": "Reverse Transfer Learning - Semantic Similarity with TF-Hub Universal Encoder",
   "provenance": [],
   "toc_visible": true
  },
  "kernelspec": {
   "display_name": "Python 3",
   "language": "python",
   "name": "python3"
  },
  "language_info": {
   "codemirror_mode": {
    "name": "ipython",
    "version": 3
   },
   "file_extension": ".py",
   "mimetype": "text/x-python",
   "name": "python",
   "nbconvert_exporter": "python",
   "pygments_lexer": "ipython3",
   "version": "3.6.8"
  }
 },
 "nbformat": 4,
 "nbformat_minor": 1
}
