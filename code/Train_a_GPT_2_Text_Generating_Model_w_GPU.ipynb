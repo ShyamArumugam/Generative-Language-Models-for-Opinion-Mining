{
 "cells": [
  {
   "cell_type": "markdown",
   "metadata": {
    "colab_type": "text",
    "id": "H7LoMj4GA4n_"
   },
   "source": [
    "#  Train a GPT-2 Text-Generating Model w/ GPU For Free \n",
    "\n",
    "\n",
    "\n",
    "Retrain an advanced text generating neural network on any text dataset **for free on a GPU using Collaboratory** using `gpt-2-simple`!\n",
    "\n",
    "For more about `gpt-2-simple`, you can visit [this GitHub repository](https://github.com/minimaxir/gpt-2-simple).\n",
    "\n"
   ]
  },
  {
   "cell_type": "code",
   "execution_count": 0,
   "metadata": {
    "colab": {
     "base_uri": "https://localhost:8080/",
     "height": 72
    },
    "colab_type": "code",
    "id": "KBkpRgBCBS2_",
    "outputId": "518c6a58-939f-4b34-e0c7-8e797a682bdb"
   },
   "outputs": [
    {
     "name": "stdout",
     "output_type": "stream",
     "text": [
      "\u001b[?25l\r",
      "\u001b[K     |▌                               | 10kB 18.5MB/s eta 0:00:01\r",
      "\u001b[K     |█                               | 20kB 23.0MB/s eta 0:00:01\r",
      "\u001b[K     |█▌                              | 30kB 27.4MB/s eta 0:00:01\r",
      "\u001b[K     |██                              | 40kB 4.4MB/s eta 0:00:01\r",
      "\u001b[K     |██▌                             | 51kB 5.4MB/s eta 0:00:01\r",
      "\u001b[K     |███                             | 61kB 6.3MB/s eta 0:00:01\r",
      "\u001b[K     |███▌                            | 71kB 7.2MB/s eta 0:00:01\r",
      "\u001b[K     |████                            | 81kB 8.1MB/s eta 0:00:01\r",
      "\u001b[K     |████▌                           | 92kB 8.9MB/s eta 0:00:01\r",
      "\u001b[K     |█████                           | 102kB 9.7MB/s eta 0:00:01\r",
      "\u001b[K     |█████▌                          | 112kB 9.7MB/s eta 0:00:01\r",
      "\u001b[K     |██████                          | 122kB 9.7MB/s eta 0:00:01\r",
      "\u001b[K     |██████▌                         | 133kB 9.7MB/s eta 0:00:01\r",
      "\u001b[K     |███████                         | 143kB 9.7MB/s eta 0:00:01\r",
      "\u001b[K     |███████▌                        | 153kB 9.7MB/s eta 0:00:01\r",
      "\u001b[K     |████████                        | 163kB 9.7MB/s eta 0:00:01\r",
      "\u001b[K     |████████▌                       | 174kB 9.7MB/s eta 0:00:01\r",
      "\u001b[K     |█████████                       | 184kB 9.7MB/s eta 0:00:01\r",
      "\u001b[K     |█████████▌                      | 194kB 9.7MB/s eta 0:00:01\r",
      "\u001b[K     |██████████                      | 204kB 9.7MB/s eta 0:00:01\r",
      "\u001b[K     |██████████▌                     | 215kB 9.7MB/s eta 0:00:01\r",
      "\u001b[K     |███████████                     | 225kB 9.7MB/s eta 0:00:01\r",
      "\u001b[K     |███████████▌                    | 235kB 9.7MB/s eta 0:00:01\r",
      "\u001b[K     |████████████                    | 245kB 9.7MB/s eta 0:00:01\r",
      "\u001b[K     |████████████▌                   | 256kB 9.7MB/s eta 0:00:01\r",
      "\u001b[K     |█████████████                   | 266kB 9.7MB/s eta 0:00:01\r",
      "\u001b[K     |█████████████▌                  | 276kB 9.7MB/s eta 0:00:01\r",
      "\u001b[K     |██████████████                  | 286kB 9.7MB/s eta 0:00:01\r",
      "\u001b[K     |██████████████▌                 | 296kB 9.7MB/s eta 0:00:01\r",
      "\u001b[K     |███████████████                 | 307kB 9.7MB/s eta 0:00:01\r",
      "\u001b[K     |███████████████▌                | 317kB 9.7MB/s eta 0:00:01\r",
      "\u001b[K     |████████████████                | 327kB 9.7MB/s eta 0:00:01\r",
      "\u001b[K     |████████████████▌               | 337kB 9.7MB/s eta 0:00:01\r",
      "\u001b[K     |█████████████████               | 348kB 9.7MB/s eta 0:00:01\r",
      "\u001b[K     |█████████████████▌              | 358kB 9.7MB/s eta 0:00:01\r",
      "\u001b[K     |██████████████████              | 368kB 9.7MB/s eta 0:00:01\r",
      "\u001b[K     |██████████████████▌             | 378kB 9.7MB/s eta 0:00:01\r",
      "\u001b[K     |███████████████████             | 389kB 9.7MB/s eta 0:00:01\r",
      "\u001b[K     |███████████████████▌            | 399kB 9.7MB/s eta 0:00:01\r",
      "\u001b[K     |████████████████████            | 409kB 9.7MB/s eta 0:00:01\r",
      "\u001b[K     |████████████████████▌           | 419kB 9.7MB/s eta 0:00:01\r",
      "\u001b[K     |█████████████████████           | 430kB 9.7MB/s eta 0:00:01\r",
      "\u001b[K     |█████████████████████▌          | 440kB 9.7MB/s eta 0:00:01\r",
      "\u001b[K     |██████████████████████          | 450kB 9.7MB/s eta 0:00:01\r",
      "\u001b[K     |██████████████████████▌         | 460kB 9.7MB/s eta 0:00:01\r",
      "\u001b[K     |███████████████████████         | 471kB 9.7MB/s eta 0:00:01\r",
      "\u001b[K     |███████████████████████▌        | 481kB 9.7MB/s eta 0:00:01\r",
      "\u001b[K     |████████████████████████        | 491kB 9.7MB/s eta 0:00:01\r",
      "\u001b[K     |████████████████████████▌       | 501kB 9.7MB/s eta 0:00:01\r",
      "\u001b[K     |█████████████████████████       | 512kB 9.7MB/s eta 0:00:01\r",
      "\u001b[K     |█████████████████████████▌      | 522kB 9.7MB/s eta 0:00:01\r",
      "\u001b[K     |██████████████████████████      | 532kB 9.7MB/s eta 0:00:01\r",
      "\u001b[K     |██████████████████████████▌     | 542kB 9.7MB/s eta 0:00:01\r",
      "\u001b[K     |███████████████████████████     | 552kB 9.7MB/s eta 0:00:01\r",
      "\u001b[K     |███████████████████████████▌    | 563kB 9.7MB/s eta 0:00:01\r",
      "\u001b[K     |████████████████████████████    | 573kB 9.7MB/s eta 0:00:01\r",
      "\u001b[K     |████████████████████████████▌   | 583kB 9.7MB/s eta 0:00:01\r",
      "\u001b[K     |█████████████████████████████   | 593kB 9.7MB/s eta 0:00:01\r",
      "\u001b[K     |█████████████████████████████▌  | 604kB 9.7MB/s eta 0:00:01\r",
      "\u001b[K     |██████████████████████████████  | 614kB 9.7MB/s eta 0:00:01\r",
      "\u001b[K     |██████████████████████████████▌ | 624kB 9.7MB/s eta 0:00:01\r",
      "\u001b[K     |███████████████████████████████ | 634kB 9.7MB/s eta 0:00:01\r",
      "\u001b[K     |███████████████████████████████▌| 645kB 9.7MB/s eta 0:00:01\r",
      "\u001b[K     |████████████████████████████████| 655kB 9.7MB/s \n",
      "\u001b[?25h  Building wheel for gpt-2-simple (setup.py) ... \u001b[?25l\u001b[?25hdone\n",
      "  Building wheel for regex (setup.py) ... \u001b[?25l\u001b[?25hdone\n"
     ]
    }
   ],
   "source": [
    "!pip install -q gpt_2_simple\n",
    "import gpt_2_simple as gpt2\n",
    "import tensorflow as tf\n",
    "from datetime import datetime\n",
    "from google.colab import files"
   ]
  },
  {
   "cell_type": "markdown",
   "metadata": {
    "colab_type": "text",
    "id": "Bj2IJLHP3KwE"
   },
   "source": [
    "## Verify GPU\n",
    "\n",
    "Colaboratory now uses an Nvidia T4 GPU, which is slightly faster than the old Nvidia K80 GPU for training GPT-2, and has more memory allowing you to train the larger GPT-2 models and generate more text. However sometimes the K80 will still be used.\n",
    "\n",
    "You can verify which GPU is active by running the cell below."
   ]
  },
  {
   "cell_type": "code",
   "execution_count": 0,
   "metadata": {
    "colab": {
     "base_uri": "https://localhost:8080/",
     "height": 306
    },
    "colab_type": "code",
    "id": "sUmTooTW3osf",
    "outputId": "be06e583-cf7c-4cbe-ca6d-1b30c87e9e60"
   },
   "outputs": [
    {
     "name": "stdout",
     "output_type": "stream",
     "text": [
      "Tue Jul 23 15:38:13 2019       \n",
      "+-----------------------------------------------------------------------------+\n",
      "| NVIDIA-SMI 418.67       Driver Version: 410.79       CUDA Version: 10.0     |\n",
      "|-------------------------------+----------------------+----------------------+\n",
      "| GPU  Name        Persistence-M| Bus-Id        Disp.A | Volatile Uncorr. ECC |\n",
      "| Fan  Temp  Perf  Pwr:Usage/Cap|         Memory-Usage | GPU-Util  Compute M. |\n",
      "|===============================+======================+======================|\n",
      "|   0  Tesla K80           Off  | 00000000:00:04.0 Off |                    0 |\n",
      "| N/A   34C    P8    32W / 149W |      0MiB / 11441MiB |      0%      Default |\n",
      "+-------------------------------+----------------------+----------------------+\n",
      "                                                                               \n",
      "+-----------------------------------------------------------------------------+\n",
      "| Processes:                                                       GPU Memory |\n",
      "|  GPU       PID   Type   Process name                             Usage      |\n",
      "|=============================================================================|\n",
      "|  No running processes found                                                 |\n",
      "+-----------------------------------------------------------------------------+\n"
     ]
    }
   ],
   "source": [
    "!nvidia-smi"
   ]
  },
  {
   "cell_type": "markdown",
   "metadata": {
    "colab_type": "text",
    "id": "0wXB05bPDYxS"
   },
   "source": [
    "## Downloading GPT-2\n",
    "\n",
    "If you're retraining a model on new text, you need to download the GPT-2 model first. \n",
    "\n",
    "There are two sizes of GPT-2:\n",
    "\n",
    "* `117M` (default): the \"small\" model, 500MB on disk.\n",
    "* `345M`: the \"medium\" model, 1.5GB on disk.\n",
    "\n",
    "Larger models have more knowledge, but take longer to finetune and longer to generate text. You can specify which base model to use by changing `model_name` in the cells below.\n",
    "\n",
    "The next cell downloads it from Google Cloud Storage and saves it in the Colaboratory VM at `/models/<model_name>`.\n",
    "\n",
    "This model isn't permanently saved in the Colaboratory VM; you'll have to redownload it if you want to retrain it at a later time."
   ]
  },
  {
   "cell_type": "code",
   "execution_count": 0,
   "metadata": {
    "colab": {},
    "colab_type": "code",
    "id": "P8wSlgXoDPCR"
   },
   "outputs": [],
   "source": [
    "model_name = \"345M\"\n",
    "gpt2.download_gpt2(model_name=model_name)"
   ]
  },
  {
   "cell_type": "markdown",
   "metadata": {
    "colab_type": "text",
    "id": "N8KXuKWzQSsN"
   },
   "source": [
    "## Mounting Google Drive\n",
    "\n",
    "The best way to get input text to-be-trained into the Colaboratory VM, and to get the trained model *out* of Colaboratory, is to route it through Google Drive *first*.\n",
    "\n",
    "Running this cell (which will only work in Colaboratory) will mount your personal Google Drive in the VM, which later cells can use to get data in/out. (it will ask for an auth code; that auth is not saved anywhere)"
   ]
  },
  {
   "cell_type": "code",
   "execution_count": 0,
   "metadata": {
    "colab": {
     "base_uri": "https://localhost:8080/",
     "height": 128
    },
    "colab_type": "code",
    "id": "puq4iC6vUAHc",
    "outputId": "d2de9394-fbf5-4d26-bfab-98baee34badf"
   },
   "outputs": [
    {
     "name": "stdout",
     "output_type": "stream",
     "text": [
      "Go to this URL in a browser: https://accounts.google.com/o/oauth2/auth?client_id=947318989803-6bn6qk8qdgf4n4g3pfee6491hc0brc4i.apps.googleusercontent.com&redirect_uri=urn%3Aietf%3Awg%3Aoauth%3A2.0%3Aoob&scope=email%20https%3A%2F%2Fwww.googleapis.com%2Fauth%2Fdocs.test%20https%3A%2F%2Fwww.googleapis.com%2Fauth%2Fdrive%20https%3A%2F%2Fwww.googleapis.com%2Fauth%2Fdrive.photos.readonly%20https%3A%2F%2Fwww.googleapis.com%2Fauth%2Fpeopleapi.readonly&response_type=code\n",
      "\n",
      "Enter your authorization code:\n",
      "··········\n",
      "Mounted at /content/drive\n"
     ]
    }
   ],
   "source": [
    "gpt2.mount_gdrive()"
   ]
  },
  {
   "cell_type": "code",
   "execution_count": 0,
   "metadata": {
    "colab": {
     "base_uri": "https://localhost:8080/",
     "height": 34
    },
    "colab_type": "code",
    "id": "xvs9W9g39Sxd",
    "outputId": "34d8c98c-a42f-4e86-8318-258c0ef79adb"
   },
   "outputs": [
    {
     "name": "stdout",
     "output_type": "stream",
     "text": [
      "Mounted at /content/drive\n"
     ]
    }
   ],
   "source": [
    "from google.colab import drive\n",
    "drive.mount(\"/content/drive\", force_remount=True)"
   ]
  },
  {
   "cell_type": "markdown",
   "metadata": {
    "colab_type": "text",
    "id": "BT__brhBCvJu"
   },
   "source": [
    "## Uploading a Text File to be Trained to Colaboratory\n",
    "\n",
    "In the Colaboratory Notebook sidebar on the left of the screen, select *Files*. From there you can upload files:\n",
    "\n",
    "![alt text](https://i.imgur.com/TGcZT4h.png)\n",
    "\n",
    "Upload **any smaller text file**  (<10 MB) and update the file name in the cell below, then run the cell."
   ]
  },
  {
   "cell_type": "code",
   "execution_count": 0,
   "metadata": {
    "colab": {},
    "colab_type": "code",
    "id": "6OFnPCLADfll"
   },
   "outputs": [],
   "source": [
    "file_name = 'english_filtered_comments.txt'"
   ]
  },
  {
   "cell_type": "markdown",
   "metadata": {
    "colab_type": "text",
    "id": "HeeSKtNWUedE"
   },
   "source": [
    "If your text file is larger than 10MB, it is recommended to upload that file to Google Drive first, then copy that file from Google Drive to the Colaboratory VM."
   ]
  },
  {
   "cell_type": "code",
   "execution_count": 0,
   "metadata": {
    "colab": {},
    "colab_type": "code",
    "id": "-Z6okFD8VKtS"
   },
   "outputs": [],
   "source": [
    "gpt2.copy_file_from_gdrive(file_name)\n"
   ]
  },
  {
   "cell_type": "markdown",
   "metadata": {
    "colab_type": "text",
    "id": "LdpZQXknFNY3"
   },
   "source": [
    "## Finetune GPT-2\n",
    "\n",
    "The next cell will start the actual finetuning of GPT-2. It creates a persistent TensorFlow session which stores the training config, then runs the training for the specified number of `steps`. (to have the finetuning run indefinitely, set `steps = -1`)\n",
    "\n",
    "The model checkpoints will be saved in `/checkpoint/run1` by default. The checkpoints are saved every 500 steps (can be changed) and when the cell is stopped.\n",
    "\n",
    "The training might time out after 4ish hours; make sure you end training and save the results so you don't lose them!\n",
    "\n",
    "**IMPORTANT NOTE:** If you want to rerun this cell, **restart the VM first** (Runtime -> Restart Runtime). You will need to rerun imports but not recopy files.\n",
    "\n",
    "Other optional-but-helpful parameters for `gpt2.finetune`:\n",
    "\n",
    "\n",
    "*  **`restore_from`**: Set to `fresh` to start training from the base GPT-2, or set to `latest` to restart training from an existing checkpoint.\n",
    "* **`sample_every`**: Number of steps to print example output\n",
    "* **`print_every`**: Number of steps to print training progress.\n",
    "* **`learning_rate`**:  Learning rate for the training. (default `1e-4`, can lower to `1e-5` if you have <1MB input data)\n",
    "*  **`run_name`**: subfolder within `checkpoint` to save the model. This is useful if you want to work with multiple models (will also need to specify  `run_name` when loading the model)"
   ]
  },
  {
   "cell_type": "code",
   "execution_count": 0,
   "metadata": {
    "colab": {},
    "colab_type": "code",
    "id": "EgTwAyFCyXKd"
   },
   "outputs": [],
   "source": [
    "op_file_name = model_name + \"english_filtered_comments\" \n"
   ]
  },
  {
   "cell_type": "code",
   "execution_count": 0,
   "metadata": {
    "colab": {
     "base_uri": "https://localhost:8080/",
     "height": 1000
    },
    "colab_type": "code",
    "id": "aeXshJM-Cuaf",
    "outputId": "bbf190c0-15ac-4ef9-a40f-304c87502221"
   },
   "outputs": [
    {
     "name": "stderr",
     "output_type": "stream",
     "text": [
      "W0630 17:42:55.323034 139803404752768 deprecation_wrapper.py:119] From /usr/local/lib/python3.6/dist-packages/gpt_2_simple/gpt_2.py:164: The name tf.placeholder is deprecated. Please use tf.compat.v1.placeholder instead.\n",
      "\n",
      "W0630 17:42:55.332010 139803404752768 deprecation_wrapper.py:119] From /usr/local/lib/python3.6/dist-packages/gpt_2_simple/src/model.py:148: The name tf.variable_scope is deprecated. Please use tf.compat.v1.variable_scope instead.\n",
      "\n"
     ]
    },
    {
     "name": "stdout",
     "output_type": "stream",
     "text": [
      "345Menglish_filtered_comments\n"
     ]
    },
    {
     "name": "stderr",
     "output_type": "stream",
     "text": [
      "W0630 17:43:06.638713 139803404752768 deprecation.py:323] From /usr/local/lib/python3.6/dist-packages/gpt_2_simple/src/sample.py:71: to_float (from tensorflow.python.ops.math_ops) is deprecated and will be removed in a future version.\n",
      "Instructions for updating:\n",
      "Use `tf.cast` instead.\n",
      "W0630 17:43:06.656453 139803404752768 deprecation.py:323] From /usr/local/lib/python3.6/dist-packages/gpt_2_simple/src/sample.py:17: add_dispatch_support.<locals>.wrapper (from tensorflow.python.ops.array_ops) is deprecated and will be removed in a future version.\n",
      "Instructions for updating:\n",
      "Use tf.where in 2.0, which has the same broadcast rule as np.where\n",
      "W0630 17:43:06.659375 139803404752768 deprecation.py:323] From /usr/local/lib/python3.6/dist-packages/gpt_2_simple/src/sample.py:77: multinomial (from tensorflow.python.ops.random_ops) is deprecated and will be removed in a future version.\n",
      "Instructions for updating:\n",
      "Use `tf.random.categorical` instead.\n",
      "W0630 17:43:06.672140 139803404752768 deprecation_wrapper.py:119] From /usr/local/lib/python3.6/dist-packages/gpt_2_simple/gpt_2.py:191: The name tf.train.AdamOptimizer is deprecated. Please use tf.compat.v1.train.AdamOptimizer instead.\n",
      "\n",
      "W0630 17:43:21.757645 139803404752768 deprecation_wrapper.py:119] From /usr/local/lib/python3.6/dist-packages/gpt_2_simple/gpt_2.py:198: The name tf.summary.scalar is deprecated. Please use tf.compat.v1.summary.scalar instead.\n",
      "\n",
      "W0630 17:43:21.760256 139803404752768 deprecation_wrapper.py:119] From /usr/local/lib/python3.6/dist-packages/gpt_2_simple/gpt_2.py:200: The name tf.summary.FileWriter is deprecated. Please use tf.compat.v1.summary.FileWriter instead.\n",
      "\n",
      "W0630 17:43:21.766865 139803404752768 deprecation_wrapper.py:119] From /usr/local/lib/python3.6/dist-packages/gpt_2_simple/gpt_2.py:202: The name tf.train.Saver is deprecated. Please use tf.compat.v1.train.Saver instead.\n",
      "\n",
      "W0630 17:43:33.822780 139803404752768 deprecation.py:323] From /usr/local/lib/python3.6/dist-packages/tensorflow/python/training/saver.py:1276: checkpoint_exists (from tensorflow.python.training.checkpoint_management) is deprecated and will be removed in a future version.\n",
      "Instructions for updating:\n",
      "Use standard file APIs to check for files with this prefix.\n"
     ]
    },
    {
     "name": "stdout",
     "output_type": "stream",
     "text": [
      "Loading checkpoint models/345M/model.ckpt\n"
     ]
    },
    {
     "name": "stderr",
     "output_type": "stream",
     "text": [
      "\r",
      "  0%|          | 0/1 [00:00<?, ?it/s]"
     ]
    },
    {
     "name": "stdout",
     "output_type": "stream",
     "text": [
      "Loading dataset...\n"
     ]
    },
    {
     "name": "stderr",
     "output_type": "stream",
     "text": [
      "\r",
      "100%|██████████| 1/1 [00:43<00:00, 43.18s/it]\n"
     ]
    },
    {
     "name": "stdout",
     "output_type": "stream",
     "text": [
      "dataset has 7799034 tokens\n",
      "Training...\n",
      "[10 | 25.57] loss=3.69 avg=3.69\n",
      "[20 | 41.81] loss=3.38 avg=3.54\n",
      "[30 | 57.78] loss=3.36 avg=3.48\n",
      "[40 | 73.55] loss=3.20 avg=3.41\n",
      "[50 | 89.28] loss=3.44 avg=3.41\n",
      "[60 | 105.06] loss=3.54 avg=3.43\n",
      "[70 | 120.95] loss=3.19 avg=3.40\n",
      "[80 | 136.84] loss=3.44 avg=3.40\n",
      "[90 | 152.72] loss=3.02 avg=3.36\n",
      "[100 | 168.56] loss=3.27 avg=3.35\n",
      "[110 | 184.39] loss=3.79 avg=3.39\n",
      "[120 | 200.22] loss=3.08 avg=3.36\n",
      "[130 | 216.05] loss=3.96 avg=3.41\n",
      "[140 | 231.92] loss=2.74 avg=3.36\n",
      "[150 | 247.77] loss=3.68 avg=3.38\n",
      "[160 | 263.64] loss=3.80 avg=3.41\n",
      "[170 | 279.54] loss=3.31 avg=3.41\n",
      "[180 | 295.42] loss=3.53 avg=3.41\n",
      "[190 | 311.34] loss=3.39 avg=3.41\n",
      "[200 | 327.27] loss=3.27 avg=3.40\n",
      "======== SAMPLE 1 ========\n",
      " did eat it and I think it was very good for the planet and I am happy to go and grow it again. It does not have the toxins in it as did the green apple and it is healthier. But I do not believe that will ever do any good.\n",
      "Yes, I do not believe it does harm anything. I believe that only those with the ability to think and reason with what they know in order to avoid the harmful effects of it and make it a healthier choice. I do not believe it is harmful to eat that, I believe it is a choice that is being given to them. You must think, and you must think long and hard before you will do. There is no way we will ever get rid of it. I do not believe that this was a deliberate decision, so I do think it is more of an anti-choice, anti-consumer movement against the idea of more of this kind of chemical and more of this kind of processed stuff, not an anti-science thing.\n",
      "This one does not make the link: http://www.alternet.org/story/0,973,2959,1429,1657,1629. The link says it is the link you are searching for.\n",
      "http://www.bioeconomicsdaily.com/2013/04/31/science-is-flattered-by-trends-in-foods-by-a-new-study/. The study is actually not about \"trends\" in Food but this article is about the \"effect of pesticide on crop crops, soil and water resources and biogenital diseases\", etc. I assume it is in the title and the study is not about a trend. If a study is about a difference in how a food will affect the environment then the link to how the product of the pesticide affect the environment can be cited. The article says the results of the study: \"suggest a negative association of pesticide use on food and soil organic matter in US soils at the national and farm levels\". The link is there for you, even if you have your doubts.\n",
      "You do not need to be a scientist to find that this link is ridiculous. It is a scientific experiment from where the study gets its results. Also, the article in question seems to be a propaganda piece from the Organic Trade Association who do not seem to be well informed about science and who are doing some poorly informed and misleading stuff with this article. There is one other study for which a direct study of the link is not possible. And you do not know which studies and why one actually does not find an increase. So yes, these guys may be wrong. But again, they are being misleading.\n",
      "I know this study was not done in your neighborhood, but I would bet that they did not do a study in your neighborhood because the local people are generally very ignorant to science, to their own food choices, and their own communities.\n",
      "They were not in a residential area, not a place where they thought they were going to have a study, so that would be a pretty low probability to do a study in a residential area. So it would have to be with a study that did not do any studies where they did not even know that they were not being deceived and misled, which they probably would not do. Which means, they are not claiming an increase on food and/or soil organic matter. And the study did not tell you, the study does not know if there is any increase. And in those studies there is always a potential for the experimenters to make a mistake or a double cross. And we know these were not done locally, which means the increase could have been at the same places at a completely different time. Which is why it is not a reliable study. But again, the study is misleading.\n",
      "I have been living in a lowland California area that used to produce an abundance of organic soybeans, corn, and peanuts. And our farmers, who produce such a crop, are being threatened by the chemical Bt or by the toxic insecticide Roundup. The Bt was developed to be used on rice, but now Roundup is used on most of the world, as far back as 2003 according to the US Department of Agriculture. And even this herbicide is now banned as it disrupts the brain's ability to function. The use of Roundup is now banned on the American market, as well, so what happened in those lowland areas? Well, they were not farming GMO foods either. This is a good example of the propaganda, disinformation, and disinformation to be expected from those who use science as a political football (see the video). Also, in the article it is stated that these organic foods and the land that they grow on have a positive association with pesticide use compared to non-organic foods. So, yes, they are all linked in our study. But I did not read the paper very carefully and it does not seem to make any sense at all. This was never an investigation\n",
      "\n",
      "[210 | 367.71] loss=2.92 avg=3.38\n",
      "[220 | 383.62] loss=3.58 avg=3.39\n",
      "[230 | 399.53] loss=3.76 avg=3.41\n",
      "[240 | 415.46] loss=3.43 avg=3.41\n",
      "[250 | 431.34] loss=3.54 avg=3.41\n",
      "[260 | 447.29] loss=3.30 avg=3.41\n",
      "[270 | 463.21] loss=3.27 avg=3.40\n",
      "[280 | 479.13] loss=3.57 avg=3.41\n",
      "[290 | 495.05] loss=3.69 avg=3.42\n",
      "[300 | 510.94] loss=3.75 avg=3.43\n",
      "[310 | 526.85] loss=3.37 avg=3.43\n",
      "[320 | 542.74] loss=3.34 avg=3.43\n",
      "[330 | 558.63] loss=3.13 avg=3.42\n",
      "[340 | 574.52] loss=3.44 avg=3.42\n",
      "[350 | 590.40] loss=3.60 avg=3.42\n",
      "[360 | 606.31] loss=2.94 avg=3.41\n",
      "[370 | 622.24] loss=3.36 avg=3.41\n",
      "[380 | 638.16] loss=3.64 avg=3.41\n",
      "[390 | 654.06] loss=3.43 avg=3.42\n",
      "[400 | 669.97] loss=3.03 avg=3.40\n",
      "======== SAMPLE 1 ========\n",
      " in the US to help promote awareness about their products! Check them out on Google. You will find the link to shop for your desired variety from their website here. http://www.eatwild.com/\n",
      "Have to go. No matter how hard I try, I never buy their products in the US. They are too costly for the consumer! I live in NYC and live in a small condo and no way would I live in their country and buy cheap.\n",
      "I did a quick google search and came up with three locations that I shop at. They all have the food and they seem to have healthy food. I tried one of them (The only one) but the people who work there are rude but the overall company is not that bad. I have lived in many places in my life and never liked their environment.\n",
      "Not really. But in the last few years there have been plenty of businesses opening for people that I think are healthy and the quality and taste of the food is better for most people. I do know however, the companies that are not on my list or who pay lower wages have not been so much fun in my life. There is still a lot of discrimination and abuse as you can see on various sites.\n",
      "I live in a city in New York that has no supermarkets. And while there is a Whole Foods in the middle of a shopping mall which I sometimes go, I have also shopped at the local farmers market a few weeks ago. I tried both of these and I agree that the prices were too expensive for me, but neither of them did for me. That is one of the reasons that I do not go there anymore.\n",
      "There are two main reasons why I avoid the stores in Mexico that have not gotten into the fast food business and are also not the same. One, because I am anti-business and anti-money. This is a good reason. But is not a great one, because the Mexicans are the main target of the U.S. government and the Mexican government itself is a business-friendly government. And the Mexicans have become a target of the U.S. government's anti-labor programs. Since this government gives money to businesses that will employ mostly illegal immigrants, so as to stop them, this makes the economy look as if it is growing. Also, if you have paid no attention to these things, you may have thought that the Mexicans are the ones getting the government's money. But they are not. They are getting the money from the U.S. government, not the taxpayers. Since government controls all the money in the economy, it could be said that the Mexican government controls the economy, not the tax money. But it is a point that I could make if I were one of them, and did. The government has also given millions of dollars in tax cuts to U.S. corporations, and the U.S. corporations paid these taxes instead of making foreign profits. The U.S. government has also paid these corporations tax on a massive scale, with the U.S. government paying corporations that will invest billions of dollars in Mexico. The Mexicans have used up all their tax-cut money, and the Mexicans are now paying a huge amount of that money to the Mexicans again. And I do not expect my tax money to be used up by those companies that choose to expand. For example, the Coca-Cola Company got this money from taxes paid by the American corporations that chose to buy their sugar in Mexico. And now the Mexicans can take these corporations' tax cuts and pay U.S. taxes on them instead. The same is true for McDonalds, Subway, the Burger King Company, Dunkin' Donuts, and Starbucks. Their tax cuts have been used up so it is no longer a business choice for these companies whether or not they go abroad. The government also controls how these companies are run, as well as how they use U.S. government money. If a company is going to remain in the U.S., it must be run the way that is most efficient and good for the customers. That requires keeping taxes low for its employees, paying employees a living wage that pays enough in taxes to pay for the company. However, companies also have to pay Social Security taxes, Medicare taxes, and the estate taxes on their families. This is why McDonalds can afford to keep its shareholders' money from getting used up by these countries in their war on corporate taxes. Even though there are no legal limits on foreign ownership of U.S. companies, the U.S. government could do the same thing to companies that do not comply with the rule of the company's shareholders. I also believe the rules for companies are the same whether its owned by a state or a corporation. They are not. If the company does not pay the U.S. taxes, then the U.S. may tax the company. This is why you cannot get the companies to sell the company or pay off the U.S. Government. You can just\n",
      "\n",
      "[410 | 707.64] loss=3.29 avg=3.40\n",
      "[420 | 723.55] loss=3.50 avg=3.40\n",
      "[430 | 739.46] loss=2.89 avg=3.39\n",
      "[440 | 755.38] loss=3.49 avg=3.39\n",
      "[450 | 771.32] loss=2.90 avg=3.38\n",
      "[460 | 787.24] loss=3.33 avg=3.38\n",
      "[470 | 803.14] loss=3.33 avg=3.38\n",
      "[480 | 819.11] loss=3.17 avg=3.37\n",
      "[490 | 835.06] loss=3.82 avg=3.38\n",
      "[500 | 851.01] loss=3.55 avg=3.39\n",
      "Saving checkpoint/345Menglish_filtered_comments/model-500\n",
      "[510 | 878.31] loss=3.60 avg=3.39\n",
      "[520 | 894.48] loss=3.27 avg=3.39\n",
      "[530 | 910.55] loss=3.29 avg=3.39\n",
      "[540 | 926.47] loss=3.73 avg=3.39\n",
      "[550 | 942.35] loss=3.22 avg=3.39\n",
      "[560 | 958.25] loss=3.24 avg=3.39\n",
      "[570 | 974.18] loss=3.63 avg=3.39\n",
      "[580 | 990.12] loss=3.26 avg=3.39\n",
      "[590 | 1006.08] loss=2.90 avg=3.38\n",
      "[600 | 1022.04] loss=3.38 avg=3.38\n",
      "======== SAMPLE 1 ========\n",
      " own first and we can see from how it is manufactured that a lot of this stuff is very dangerous. So I am going to say that it really does not matter what I do, unless it is done with good science. I am not talking about being cautious about what I do but how I do it. If you want to be an optimist at all you have to be a bit more skeptical about the whole \"you just need to do the research first\" part. Also, in many cases that part is pretty easy. But we need to find what we are allergic to, which is most of what we are, even those synthetic ingredients that are not regulated and approved by any body. I am talking about specific ingredients here, not general synthetic foods. My mom told me years ago that every child had to be able to eat foods, even if they were not grown on a farm. So it really did depend on how well you were able to study the ingredients in which they originated. Also, people who were allergic to these chemicals did not have allergic reactions. I have never eaten food with MSG (an anaphylactic agent, so to speak). I am allergic to peanuts. I am allergic to wheat or anything with corn in what I eat. I am allergic to anything from a natural source. Some people are allergic all of a sudden. Some are very, very allergic and it takes weeks or even months for symptoms to show up. And one of the important things is you need to wash the food or go straight to the doctor, even more than that, if the food becomes very very hot in the microwave. So let me just finish this off. It is not that hard either. We all have what we do. I am allergic to nuts. My doctor told me a short time ago you cannot eat them without being very hot in the microwave. I had no idea what it meant, so I did not think to question it. It seems to be common knowledge that all nuts are toxic to humans. We know that as well when almonds are grown. And you get a different lesson about MSG when you ingest it, so I can say with certainty that no such thing goes through my skin and I can eat as much of it now that the doctor says to do so.\n",
      "When you read all that stuff, you are gonna say it smells disgusting. Maybe that is good, but you are not gonna notice it. I only have allergies to grains, fish, milk, eggs, and eggs. That's the easy part. I make the real effort. I do not spend enough time or even make enough effort at the grocery store to notice how any of it was processed when it arrived. And if you are not conscious in food processing it makes it so you do not notice how the same thing that is the opposite of how you intended is still being processed. Thats fine and I am fine with that.\n",
      "Some people say that a well-done product should smell like the other and have no taste or texture other than that because you have gotten the same things over the years. Others, however, say that such foods should be labeled. So you have to ask, are fruits, grains, or anything else labeled when they are harvested? And what is the difference between processed and unprocessed food?. And if it is unprocessed what do you consider that to be?. And what are your criteria being used there?. In my experience however the more times that I have heard the phrase unprocessed I have found that it often is the case that a well-done store bought product contains ingredients that I would not normally buy if I had a strong feeling that it was 'unprocessed'. But it may be the case that you do not really know what your putting into your body as this is all subjective to how much you do and do not eat. It also depends on the type of food that you eat. My experience with grocery stores has been very similar. I found it rather hard to buy groceries there and even more difficult to buy healthy food. You may have to try to buy an item that really excites you and that is what I mean by unprocessed. And if it does not excite you it is not really unprocessed at all. In grocery stores for example there are items that I have really enjoyed and I have bought everything in them. But I have not purchased anything from a grocery store in 15 years. You can be sure that a well-stocked grocery store (especially one that carries local produce, meat and butter, nuts etc.) also carries a wide variety of food. I do not think I ever had any allergies, although there may have been a couple when I was younger where I had been in the grocery store. But I am not an optimist, and I do not know what I am eating. Also people are not necessarily allergic to anything when they have allergic reactions where they are not really conscious or aware of what they are eating. You can find the healthiest and most nutritious variety of food as\n",
      "\n",
      "[610 | 1059.71] loss=3.61 avg=3.38\n",
      "[620 | 1075.58] loss=3.45 avg=3.38\n",
      "[630 | 1091.51] loss=3.39 avg=3.39\n",
      "[640 | 1107.46] loss=3.43 avg=3.39\n",
      "[650 | 1123.41] loss=3.42 avg=3.39\n",
      "[660 | 1139.36] loss=2.64 avg=3.37\n",
      "[670 | 1155.33] loss=2.79 avg=3.36\n",
      "[680 | 1171.29] loss=3.83 avg=3.37\n",
      "[690 | 1187.24] loss=3.04 avg=3.36\n",
      "[700 | 1203.17] loss=3.76 avg=3.37\n",
      "[710 | 1219.11] loss=3.46 avg=3.37\n",
      "[720 | 1235.02] loss=3.59 avg=3.38\n",
      "[730 | 1250.92] loss=3.62 avg=3.38\n",
      "[740 | 1266.84] loss=3.42 avg=3.38\n",
      "[750 | 1282.76] loss=3.45 avg=3.38\n",
      "[760 | 1298.68] loss=3.62 avg=3.39\n",
      "[770 | 1314.59] loss=3.07 avg=3.38\n",
      "[780 | 1330.50] loss=3.51 avg=3.38\n",
      "[790 | 1346.43] loss=3.24 avg=3.38\n",
      "[800 | 1362.38] loss=2.80 avg=3.37\n",
      "======== SAMPLE 1 ========\n",
      " free dairy is good to know about!\n",
      "There are a variety of different ways for me to know when organic milk is safe to drink. In my opinion, it is very difficult to get a label that says it IS organic if you do not know what organics is. Organic does not mean what I believe it to mean and the word Organic does not mean what I think it means. Here's a good and simple way to know for me. I look for the word organic in the ingredient list on any of my organic products. If there are any words other than organic in the ingredient, I know it is not really organic.\n",
      "The reason I tell these to myself is that there is no point in buying organic if I have to buy the best possible deal. We only buy our organic food that goes through a chain that makes organic products that are organic and non-GMO. It is very easy enough for me to identify whether a product is organic.\n",
      "I do have been buying organic and non-GMO dairy products lately. I buy at my local farmers market and I am pretty happy with my buying choices there. I do love the fact organic is my go to. I have been purchasing more, so I really like this choice. I have just purchased more local stuff.\n",
      "In my opinion organic milk does not represent the food quality and taste of organic dairy products, and it does not mean it has gone through the right processing to create that special milk. That is one of the few factors I purchase my milk at. I do not know what the differences are like so can only tell myself why.\n",
      "Not to say that organic milk is the best choice for everyone. Even the organic products have their limits. Most farm animals are fed hormones, antibiotics, and they are fed grain, water, and organic fertilizers. And there are many things that are considered by many to be additives, like preservatives, additives like lye, etc. But that is just personal preference. I try to use any milk that is made or made by a reputable brand for any product that I use it in. For example, when they make almond milk I can be confident that that product does NOT have ingredients containing palm oil.\n",
      "Organic milk comes with strict labeling rules. All dairy producers are required to label their products as organic or use their own words, because consumers are usually unaware of the truth. So, what is the difference between regular organic and organic dairy? Here are the benefits of regular organic milk:. Organic milk tastes better\n",
      "Not only is regular organic milk healthier than other types of milk, but it is also good for you. It contains all the nutrients you need. As your body and your body can use up all the energy you used in one or more days, it is good to avoid consuming more than 1-2 cups of regular organic milk. If you want to eat organic, you need to learn how to choose a good milk, so it will taste really good to you. So many people cannot eat organic because the ingredients are not labeled. Therefore, they are eating processed ingredients that have little nutritional value and are not good for you.\n",
      "If you want to eat it is organic. I do, and I think the fact that it is organic does not mean that it is safe to drink. It means that you have gone through all the steps to ensuring the nutrition of your milk and your taste buds. If you buy milk at health food stores, chances are they have something that is labelled as organics in the carton. But most of the time their labels are not very helpful or even useful.\n",
      "The fact that the food has been pasteurized is really important since then. It can be expensive to pasteurize foods. My local farm shop has a lot of organic produce but is a lot more expensive than other places. Pasteurizing the food is important because the food has a lot more nutrients on it that a plain yogurt can have, which may affect you, if you eat it (in moderation). If you want to buy non-GMO (organic) milk, check out the organic section of your milk shop! Just remember, the organic label is the key.\n",
      "I have used Organic brands for years. I find that their milk is the best option because it is organic. It is better for you.\n",
      "My local farm market sells a lot of organic produce. I buy the Organic brand whenever I go. They are very reasonable prices, and it is a great choice for people who can afford it.\n",
      "Organic dairy products taste better than regular milk because the flavors are better. However, there is plenty of evidence that regular milk has less nutrients than other dairy products, and therefore is unhealthy to buy.\n",
      "Most cows need a lot of pasture every week. I have noticed that I have actually had my cows graze on grass. There is no difference in taste between milk and grass feed. However, it does not taste better in this case because most of the pasture I use is used up. The cows love it! I use\n",
      "\n",
      "[810 | 1400.07] loss=3.65 avg=3.38\n",
      "[820 | 1415.99] loss=2.66 avg=3.36\n",
      "[830 | 1431.92] loss=3.66 avg=3.37\n",
      "[840 | 1447.86] loss=3.10 avg=3.36\n",
      "[850 | 1463.77] loss=3.58 avg=3.37\n",
      "[860 | 1479.74] loss=2.85 avg=3.36\n",
      "[870 | 1495.71] loss=3.15 avg=3.35\n",
      "[880 | 1511.64] loss=3.78 avg=3.36\n",
      "[890 | 1527.58] loss=3.22 avg=3.36\n",
      "[900 | 1543.52] loss=2.90 avg=3.35\n",
      "[910 | 1559.47] loss=3.72 avg=3.36\n",
      "[920 | 1575.42] loss=3.40 avg=3.36\n",
      "[930 | 1591.31] loss=3.60 avg=3.36\n",
      "[940 | 1607.21] loss=3.14 avg=3.36\n",
      "[950 | 1623.09] loss=3.26 avg=3.36\n",
      "[960 | 1639.00] loss=3.30 avg=3.36\n",
      "[970 | 1654.90] loss=3.43 avg=3.36\n",
      "[980 | 1670.83] loss=3.73 avg=3.36\n",
      "[990 | 1686.76] loss=3.21 avg=3.36\n",
      "[1000 | 1702.70] loss=3.58 avg=3.36\n",
      "Saving checkpoint/345Menglish_filtered_comments/model-1000\n"
     ]
    },
    {
     "name": "stderr",
     "output_type": "stream",
     "text": [
      "W0630 18:12:50.145867 139803404752768 deprecation.py:323] From /usr/local/lib/python3.6/dist-packages/tensorflow/python/training/saver.py:960: remove_checkpoint (from tensorflow.python.training.checkpoint_management) is deprecated and will be removed in a future version.\n",
      "Instructions for updating:\n",
      "Use standard file APIs to delete files with this prefix.\n"
     ]
    }
   ],
   "source": [
    "\n",
    "sess = gpt2.start_tf_sess()\n",
    "print(op_file_name)\n",
    "gpt2.finetune(sess,\n",
    "              dataset=file_name,\n",
    "              model_name=model_name,\n",
    "              steps=1000,\n",
    "              restore_from='fresh',\n",
    "              run_name=op_file_name,\n",
    "              print_every=10,\n",
    "              sample_every=200,\n",
    "#               batch_size=2,\n",
    "              save_every=500\n",
    "              )"
   ]
  },
  {
   "cell_type": "markdown",
   "metadata": {
    "colab_type": "text",
    "id": "IXSuTNERaw6K"
   },
   "source": [
    "After the model is trained, you can copy the checkpoint folder to your own Google Drive.\n",
    "\n",
    "If you want to download it to your personal computer, it's strongly recommended you copy it there first, then download from Google Drive. (NB: if you are downloading the model to your personal computer, download the large model checkpoint file *seperately*, download the other files, and reconstruct the `/checkpoint/run1` folder hierarchy locally)."
   ]
  },
  {
   "cell_type": "code",
   "execution_count": 0,
   "metadata": {
    "colab": {},
    "colab_type": "code",
    "id": "VHdTL8NDbAh3"
   },
   "outputs": [],
   "source": [
    "import os\n",
    "gpt2.copy_checkpoint_to_gdrive(run_name = op_file_name)"
   ]
  },
  {
   "cell_type": "markdown",
   "metadata": {
    "colab_type": "text",
    "id": "qQJgV_b4bmzd"
   },
   "source": [
    "You're done! Feel free to go to the **Generate Text From The Trained Model** section to generate text based on your retrained model."
   ]
  },
  {
   "cell_type": "markdown",
   "metadata": {
    "colab_type": "text",
    "id": "pel-uBULXO2L"
   },
   "source": [
    "## Load a Trained Model Checkpoint\n",
    "\n",
    "Running the next cell will copy the `checkpoint` folder from your Google Drive into the Colaboratory VM."
   ]
  },
  {
   "cell_type": "code",
   "execution_count": 0,
   "metadata": {
    "colab": {},
    "colab_type": "code",
    "id": "DCcx5u7sbPTD"
   },
   "outputs": [],
   "source": [
    "import os\n",
    "gpt2.copy_checkpoint_from_gdrive(run_name = op_file_name)    \n"
   ]
  },
  {
   "cell_type": "markdown",
   "metadata": {
    "colab_type": "text",
    "id": "RTa6zf3e_9gV"
   },
   "source": [
    "The next cell will allow you to load the retrained model checkpoint + metadata necessary to generate text.\n",
    "\n",
    "**IMPORTANT NOTE:** If you want to rerun this cell, **restart the VM first** (Runtime -> Restart Runtime). You will need to rerun imports but not recopy files."
   ]
  },
  {
   "cell_type": "code",
   "execution_count": 0,
   "metadata": {
    "colab": {
     "base_uri": "https://localhost:8080/",
     "height": 122
    },
    "colab_type": "code",
    "id": "-fxL77nvAMAX",
    "outputId": "cbf3b6c0-3b48-41bc-d7f5-bea473e6164f"
   },
   "outputs": [
    {
     "name": "stdout",
     "output_type": "stream",
     "text": [
      "Loading checkpoint checkpoint/345Menglish_filtered_comments/model-1000\n",
      "WARNING:tensorflow:From /usr/local/lib/python3.6/dist-packages/tensorflow/python/training/saver.py:1276: checkpoint_exists (from tensorflow.python.training.checkpoint_management) is deprecated and will be removed in a future version.\n",
      "Instructions for updating:\n",
      "Use standard file APIs to check for files with this prefix.\n",
      "INFO:tensorflow:Restoring parameters from checkpoint/345Menglish_filtered_comments/model-1000\n"
     ]
    }
   ],
   "source": [
    "sess = gpt2.start_tf_sess()\n",
    "gpt2.load_gpt2(sess, run_name = op_file_name)"
   ]
  },
  {
   "cell_type": "markdown",
   "metadata": {
    "colab_type": "text",
    "id": "ClJwpF_ACONp"
   },
   "source": [
    "## Generate Text From The Trained Model\n",
    "\n",
    "After you've trained the model or loaded a retrained model from checkpoint, you can now generate text. `generate` generates a single text from the loaded model."
   ]
  },
  {
   "cell_type": "code",
   "execution_count": 0,
   "metadata": {
    "colab": {
     "base_uri": "https://localhost:8080/",
     "height": 105
    },
    "colab_type": "code",
    "id": "y4_QpqLqvigt",
    "outputId": "49d334c9-eb26-4d6e-c3cf-c9b868ab2ac0"
   },
   "outputs": [
    {
     "name": "stderr",
     "output_type": "stream",
     "text": [
      "W0724 06:51:26.422323 140386897622912 deprecation_wrapper.py:119] From /usr/local/lib/python3.6/dist-packages/gpt_2_simple/gpt_2.py:90: The name tf.ConfigProto is deprecated. Please use tf.compat.v1.ConfigProto instead.\n",
      "\n",
      "W0724 06:51:26.423799 140386897622912 deprecation_wrapper.py:119] From /usr/local/lib/python3.6/dist-packages/gpt_2_simple/gpt_2.py:100: The name tf.Session is deprecated. Please use tf.compat.v1.Session instead.\n",
      "\n"
     ]
    }
   ],
   "source": [
    "finetune_file = 'fine_tune_organic_full_positive'\n",
    "finetune_file_name = finetune_file + '.txt'\n",
    "gpt2.copy_file_from_gdrive(finetune_file_name)\n",
    "\n",
    "model_name = \"345M\"\n",
    "op_file_name = model_name + \"english_filtered_comments\" \n",
    "\n",
    "import os\n",
    "gpt2.copy_checkpoint_from_gdrive(run_name = op_file_name)  \n",
    "\n",
    "sess = gpt2.start_tf_sess()\n",
    "# gpt2.load_gpt2(sess, run_name = op_file_name)"
   ]
  },
  {
   "cell_type": "code",
   "execution_count": 0,
   "metadata": {
    "colab": {
     "base_uri": "https://localhost:8080/",
     "height": 1000
    },
    "colab_type": "code",
    "id": "tkdkOmthvjEl",
    "outputId": "40817846-53c2-47ee-bbb3-783bd012be1c"
   },
   "outputs": [
    {
     "name": "stderr",
     "output_type": "stream",
     "text": [
      "W0724 06:52:06.595651 140386897622912 deprecation_wrapper.py:119] From /usr/local/lib/python3.6/dist-packages/gpt_2_simple/gpt_2.py:164: The name tf.placeholder is deprecated. Please use tf.compat.v1.placeholder instead.\n",
      "\n",
      "W0724 06:52:06.602977 140386897622912 deprecation_wrapper.py:119] From /usr/local/lib/python3.6/dist-packages/gpt_2_simple/src/model.py:148: The name tf.variable_scope is deprecated. Please use tf.compat.v1.variable_scope instead.\n",
      "\n"
     ]
    },
    {
     "name": "stdout",
     "output_type": "stream",
     "text": [
      "345Menglish_fine_tune_organic_full_positive\n"
     ]
    },
    {
     "name": "stderr",
     "output_type": "stream",
     "text": [
      "W0724 06:52:20.893075 140386897622912 deprecation.py:323] From /usr/local/lib/python3.6/dist-packages/gpt_2_simple/src/sample.py:71: to_float (from tensorflow.python.ops.math_ops) is deprecated and will be removed in a future version.\n",
      "Instructions for updating:\n",
      "Use `tf.cast` instead.\n",
      "W0724 06:52:20.914369 140386897622912 deprecation.py:323] From /usr/local/lib/python3.6/dist-packages/gpt_2_simple/src/sample.py:17: add_dispatch_support.<locals>.wrapper (from tensorflow.python.ops.array_ops) is deprecated and will be removed in a future version.\n",
      "Instructions for updating:\n",
      "Use tf.where in 2.0, which has the same broadcast rule as np.where\n",
      "W0724 06:52:20.917629 140386897622912 deprecation.py:323] From /usr/local/lib/python3.6/dist-packages/gpt_2_simple/src/sample.py:77: multinomial (from tensorflow.python.ops.random_ops) is deprecated and will be removed in a future version.\n",
      "Instructions for updating:\n",
      "Use `tf.random.categorical` instead.\n",
      "W0724 06:52:20.933140 140386897622912 deprecation_wrapper.py:119] From /usr/local/lib/python3.6/dist-packages/gpt_2_simple/gpt_2.py:191: The name tf.train.AdamOptimizer is deprecated. Please use tf.compat.v1.train.AdamOptimizer instead.\n",
      "\n",
      "W0724 06:52:40.571570 140386897622912 deprecation_wrapper.py:119] From /usr/local/lib/python3.6/dist-packages/gpt_2_simple/gpt_2.py:198: The name tf.summary.scalar is deprecated. Please use tf.compat.v1.summary.scalar instead.\n",
      "\n",
      "W0724 06:52:40.575227 140386897622912 deprecation_wrapper.py:119] From /usr/local/lib/python3.6/dist-packages/gpt_2_simple/gpt_2.py:200: The name tf.summary.FileWriter is deprecated. Please use tf.compat.v1.summary.FileWriter instead.\n",
      "\n",
      "W0724 06:52:40.577693 140386897622912 deprecation_wrapper.py:119] From /usr/local/lib/python3.6/dist-packages/gpt_2_simple/gpt_2.py:202: The name tf.train.Saver is deprecated. Please use tf.compat.v1.train.Saver instead.\n",
      "\n",
      "W0724 06:52:54.305992 140386897622912 deprecation.py:323] From /usr/local/lib/python3.6/dist-packages/tensorflow/python/training/saver.py:1276: checkpoint_exists (from tensorflow.python.training.checkpoint_management) is deprecated and will be removed in a future version.\n",
      "Instructions for updating:\n",
      "Use standard file APIs to check for files with this prefix.\n"
     ]
    },
    {
     "name": "stdout",
     "output_type": "stream",
     "text": [
      "Loading checkpoint checkpoint/345Menglish_filtered_comments/model-1000\n"
     ]
    },
    {
     "name": "stderr",
     "output_type": "stream",
     "text": [
      "\r",
      "  0%|          | 0/1 [00:00<?, ?it/s]"
     ]
    },
    {
     "name": "stdout",
     "output_type": "stream",
     "text": [
      "Loading dataset...\n"
     ]
    },
    {
     "name": "stderr",
     "output_type": "stream",
     "text": [
      "\r",
      "100%|██████████| 1/1 [00:00<00:00,  2.73it/s]\n"
     ]
    },
    {
     "name": "stdout",
     "output_type": "stream",
     "text": [
      "dataset has 30477 tokens\n",
      "Training...\n",
      "Saving checkpoint/345Menglish_filtered_comments/model-1000\n",
      "Saving checkpoint/345Menglish_filtered_comments/model-1000\n",
      "======== SAMPLE 1 ========\n",
      " of blood.\n",
      "This has been the mantra with organic labeling ever since the organic industry opened up to the public. The fact that they are actually having to explain to consumers that their own genetically altered ingredients are in any more than one of the five types of foods or beverages we buy from them is ridiculous!\n",
      "Organic is still genetically modified. Why would we need it? Organic is still an ingredient of pesticides. It is not necessary to make it safer by spraying the air with pesticides.\n",
      "why not just change the ingredients?\n",
      "I am sure that organic farmers will tell you and say it is safe for the environment and so on.\n",
      "I do not know the entire organic label. Some parts will have chemicals in food. So they only buy organic. But most of the food I eat is organic.\n",
      "This is what I find interesting - not only are the organic foods healthier, but the health benefits are also much wider than just the taste of the food I eat. I have had this happen in the last few days and it has occurred to me that it has a lot of truth behind it.\n",
      "I have found many benefits - but these are the specific reasons (not only about ingredients etc.)\n",
      "Thank you for all your questions, as well as your insights and insights. I appreciate you sharing. Thank you for taking the time and posting this!\n",
      "Thanks for all your questions! This blog post is fantastic.\n",
      "Thank you so much! That explains it!\n",
      "Organic food is not made from the best sources. I love this post. I am a health nut and it made me realize I had not had any kind of health benefits because of my diet. I hope it can help.\n",
      "I have no idea what you are talking about and it is not surprising, as I am not eating it, either. I have read, that some of the vitamins in organic foods were found to be vitamin D deficient and that could be because of the chemicals being used in making them. This article is interesting and it makes me a little confused, too.\n",
      "it is true that organic food has more omega-3 fatty acids in the food. I was a food chemist, and I just found the food we are talking about contains some omega-3s, but I would never use the word organic. There are also more omega-3s in organic foods than in traditional foods.\n",
      "This is great information on which is better - or a better and healthier alternative.\n",
      "The point: the vitamin content of organic (for which there is no science available) has to do with the nutritional content.\n",
      "A little known fact: the total amount of vitamin C in our food is lower than that of most foods containing it. For instance, the vitamin C content of most fruits and vegetables is more than 200%. If we use organic instead, the number of vegetables in our diet would decline to about 2/3 of the total, while our intake of vitamin C would stay about the same (at least so far). Organic crops are also often more grainy (think corn).\n",
      "I have never read about eating organic produce containing more Vitamin C.\n",
      "If organic vegetables are not organic, what do you mean by consuming more Vitamin C?\n",
      "The article is not necessarily relevant to my question, though, about a little higher than that.\n",
      "You can drink water with any vitamins. I read it was organic water with a little bit of vitamin C. It does not matter how well the article says no additives are contained in the water, as a vitamin is a non-food.\n",
      "The list of vitamins is pretty comprehensive, but is not necessarily applicable to the average American diet and probably also to the average vitamin C diet, where it is a supplement and not necessarily consumed by the same body. As the article states, Vitamin C is very important for heart health, which is also important for prevention of certain types of cancers and for some other health benefits. The article was written to address a specific and well-documented issue such as not being able to get vitamin C at a natural source. This was in part because there was no research being done to find out if vitamin C is as high as it usually is used to be. If you wish to know what is being ingested, take a look at the Vitamins A, B, and C: A brief history. For more information on vitamin C see: Vitamin C: A brief history of its history (Beware of lab testing!)\n",
      "Organic is about as strong-arming as it gets (although I do not think the article is specifically focused on that). But because the nutritionist (yes, that is a registered dietitian) has no idea what the body is used to, it is not really useful to ask her to tell you how much of that particular ingredient was made from organic sources.\n",
      "What about non-organic stuff? I eat very little out of conventional fruit (fruit is a major ingredient), but in my experience, organic produce does not contain any of those food ingredients. I think there is more than that,\n",
      "\n",
      "[1050 | 202.76] loss=2.37 avg=2.37\n",
      "[1100 | 347.36] loss=0.89 avg=1.62\n",
      "[1150 | 492.05] loss=0.53 avg=1.25\n",
      "[1200 | 636.77] loss=0.22 avg=0.99\n",
      "[1250 | 781.48] loss=0.20 avg=0.83\n",
      "[1300 | 926.20] loss=0.10 avg=0.71\n",
      "[1350 | 1070.91] loss=0.03 avg=0.61\n",
      "[1400 | 1215.64] loss=0.04 avg=0.53\n",
      "[1450 | 1360.36] loss=0.05 avg=0.48\n",
      "[1500 | 1505.21] loss=0.02 avg=0.43\n",
      "======== SAMPLE 1 ========\n",
      " have developed immunity to it.\n",
      "Anyway, I buy most organic food when it's imported, since organic often goes hand in hand with better worker conditions.\n",
      "WRONG,properly grown organic has more minerals, vitamins, and many other factors in far greater abundance.\n",
      "organic food keeps you health and Fit.\n",
      "Organic food reduces or eliminates the risk to those workers.\n",
      "Organic food is often fresher.\n",
      "Organic food is often fresher because it does not contain preservatives that speed up the ripening process.\n",
      "Organic food is often fresher because it does not contain chemicals to hasten ripening.\n",
      "Ribbon Perfectly Rounds Up the Antioxidant Content in Your Blood To Boost Immune System.\n",
      "Your body needs antioxidants to repair itself after an injury or infection.\n",
      "When you get better on your own, it is easier to switch to an organic diet.\n",
      "If you eat organic at all costs, the risk of cancer is minimized.\n",
      "It tastes better.\n",
      "It is safer for the workers.\n",
      "Better overall health and quality of life (longevity)\n",
      "Long-lived organic vegetables (banana, melon, spinach, kale) are rich in antioxidants.\n",
      "You can get organic food products from different sources, such as: Organic supermarket (google it) Organic farm (ask a question on pinterest it is common knowledge that organic farms are held to higher standards of animal welfare)\n",
      "Experiment with two or three types of organic milk a day, if you want to avoid breast cancer.\n",
      "If you want to choose food products that are free of genetically engineered ingredients, then why not just use milk ?\n",
      "I get fresh produce from an organic farm where the cows are not given antibiotics, growth hormones, and fed animal byproducts.\n",
      "The products at Hops and Brewer's are all organic and they are highly regarded in the organic community.\n",
      "Let me tell you about a real farm.\n",
      "When I visit Dubrovnik, I stay with my vegan family for a week or so.\n",
      "From their outdoor table, you can see how the surrounding farms are managing their livestock, too.\n",
      "They have a lot of organic, local, and hybrid varieties of vegetables, fruits, grains, and dairy products.\n",
      "It's a small but helpful addition to people's diets.\n",
      "If you're making lasagna, for example, and you want to get as many nutrients as you can get, that's how you'll find out how much work is involved in getting really good food.\n",
      "Organic is about the quality of the soil, the worms, the plants, the soil.\n",
      "Nothing is more natural than organic.\n",
      "It sure beats the hoax of artificial selection.\n",
      "One reason the wealthy live longer on average is because they eat more organic food.\n",
      "It's not just about avoiding pesticides and chemicals though.\n",
      "It's about knowing when and where your food should be purchased.\n",
      "So you might want to visit a organic food store a few times a week.\n",
      "I'm with you, Sara.\n",
      "I eat at least two different kinds of food depending on what's available: Mostly organic but occasionally (not always) just about any type of produce will work.\n",
      "I know that when I'm eating at a restaurant that it is important to order the vegetables according to how they look.\n",
      "So I guess the answer is to buy organic whenever possible.\n",
      "There are so many great tips in the Organic Superfoods section of the Nourish site!\n",
      "I try to get organic with just about everything.\n",
      "I buy local because nutrition in food degrades over time and I want to buy from a farmer that cares.\n",
      "I'm not going down without a fight and I'm more concerned with the people I meet who are so motivated to buy healthful, organic food that they'll gladly give their all to helping you lose weight.\n",
      "There's nothing better than a good fight.\n",
      "The more we can do to prevent global famine and hunger the better.\n",
      "When things are organically grown and the egg is allowed to grow naturally the greater chance there is of getting the best for your money.\n",
      "Eggs from local farm fresh and free range are better than supermarket produced eggs.\n",
      "Buy local, organic and local.\n",
      "It's easier to buy organic food online.\n",
      "It's less expensive and it sure tastes better!\n",
      "As a child we ate organic for breakfast, lunch and dinner.\n",
      "We were taught that organic food was better for your health because it wasn't genetically modified.\n",
      "So we eat organic and honestly, I think we all know that there is some truth to that statement.\n",
      "I am perfectly healthy and I believe in God.\n",
      "But I can see where you are coming from, as most people do not have the luxury of time to spend on research beforehand, and must resort to what is organic for them.\n",
      "I see where you are coming from, and think twice before I buy anything else!\n",
      "I hope this helps and please keep on buying organic!\n",
      "I\n",
      "\n",
      "[1550 | 1686.51] loss=0.02 avg=0.39\n",
      "[1600 | 1831.04] loss=0.03 avg=0.36\n",
      "[1650 | 1975.99] loss=0.05 avg=0.33\n",
      "[1700 | 2120.88] loss=0.04 avg=0.31\n",
      "[1750 | 2265.78] loss=0.03 avg=0.29\n",
      "[1800 | 2410.47] loss=0.02 avg=0.27\n",
      "[1850 | 2555.10] loss=0.03 avg=0.26\n",
      "[1900 | 2700.04] loss=0.06 avg=0.25\n",
      "[1950 | 2845.01] loss=0.03 avg=0.23\n",
      "[2000 | 2989.98] loss=0.04 avg=0.22\n",
      "Saving checkpoint/345Menglish_filtered_comments/model-2000\n"
     ]
    },
    {
     "name": "stderr",
     "output_type": "stream",
     "text": [
      "W0724 07:42:59.886262 140386897622912 deprecation.py:323] From /usr/local/lib/python3.6/dist-packages/tensorflow/python/training/saver.py:960: remove_checkpoint (from tensorflow.python.training.checkpoint_management) is deprecated and will be removed in a future version.\n",
      "Instructions for updating:\n",
      "Use standard file APIs to delete files with this prefix.\n"
     ]
    },
    {
     "name": "stdout",
     "output_type": "stream",
     "text": [
      "======== SAMPLE 1 ========\n",
      ".\n",
      "It's an economic question because the short answer is an economic one: Yes, we have enough resources and land to feed everyone with organic food, but it would require a larger shift of resources toward organic food, most notably in the form of labor.\n",
      "Water Quality, Quantity and Corn Flakes The key to successful organic farming is in working with nature and the soils you are given.\n",
      "Commodity Costs and Returns Organic farms produce same yields as conventional farms Cornell University Agricultural Experiment Station Soybean Yield Under Conventional and Organic Cropping Systems with Recommended and High Inputs During the Transition Year to Organic Wheat Emergence, Early Plant Populations, and Weed Densities Following Soybeans in Conventional and Organic Cropping Systems However, the crux of the matter is eliminating the amount of waste we currently generate with all food across the world.\n",
      "Organic Teas provide several health benefits to people of all age groups, thanks to their naturally occurring catechins, antioxidants and other nutrient content.\n",
      "Here are some of the most popular organic teas and their health benefits.\n",
      "Not only that, organic Tea leaves you feeling refreshed, energized and healthier due to the absence of any chemicals or synthetic additives.\n",
      "And then there are other sources that say that, overall, organic vegetables have more nutrients than their conventional counterparts.\n",
      "There are health benefits to organic food even though they may not be as noticeable.\n",
      "In the US, the USDA has a certification for organic products which prohibits organisms grown from GMO seed and from GMO animals.\n",
      "It sounds like you don't believe organic milk is healthier.\n",
      "Most fruit is better for your health than no fruit and most organic fruit is better than ordinary fruit.\n",
      "There are many benefits of eating organic fruits and vegetables.\n",
      "This food helps to keep many diseases at bay.\n",
      "It helps to keep many types of toxins at bay.\n",
      "It helps to lower the overall number of harmful chemicals in the environment.\n",
      "It also creates healthier soil conditions for plants and animals to thrive in.\n",
      "It reduces the risks of health problems to individuals and small groups of people living close to or even within the same property.\n",
      "Such a cooperative effort is called natural farming.\n",
      "In a natural farming community, where everyone can enjoy the abundant natural beauty, the benefits of eating organic fruits and vegetables are obvious.\n",
      "Organic fruits and vegetables are a lot healthier and have gained a lot of popularity in recent times.\n",
      "Organic food is often fresher .\n",
      "Fresh food tastes better.\n",
      "Organic food is usually fresher because it doesn’t contain preservatives that make it last longer.\n",
      "Organic farming is better for the earth.\n",
      "Organic farming practices reduce pollution (air, water, soil), conserve water, reduce soil erosion, increase soil fertility, and use less energy.\n",
      "Farming without pesticides is also better for nearby birds and small animals as well as people who live close to or even on the same property.\n",
      "Organically raised animals are NOT given antibiotics, growth hormones, or fed animal byproducts .\n",
      "In addition, the animals are given more space to move around and access to the outdoors, both of which help to keep the animals healthy.\n",
      "In most countries, organic crops contain no GMOs and organic meat comes from animals raised on organic, GMO-free feed.\n",
      "The European Union funded study found that organic fruit and vegetables have up to 50% more antioxidants, which scientists believe can cut the risk of cancer and heart disease.\n",
      "They have also more vitamins and minerals such as iron and zinc.\n",
      "The taste of organic fruits and vegetables is often superior to any conventional produce.\n",
      "That's why many top restaurants use organic produce in their menu.\n",
      "However, the taste of fresh organic fruits is irresistible!\n",
      "The advantages of organic foods might be highest for babies.\n",
      "By feeding your child organic food, it will have about 1/6th the amount of carcinogens in its blood.\n",
      "Thus you will decrease the chances of illnesses significantly.\n",
      "Therefore, especially for infants and children a raw organic food diet is incredibly important.\n",
      "Organic farming works to extend property, variety, and to encourage sensible soil and air quality.\n",
      "Organic Farming Organic farming minimizes chemical usage Organic farming promotes variety Soil health is improved with organic farming practices solely natural ways square measure employed in organic farming Conventional Farming typical farming makes use of chemicals, synthetics, and different materials to manage weeds and pests typical farming uses unnatural farming ways typical farming use of pesticides has garnered attention towards acceptable levels of toxicity, and whether or not there ought to truly be a suitable level Pesticides employed in typical farming is damaging to your health.\n",
      "Theoretically, we have enough land area to grow organic food to feed entire global population.\n",
      "In fact, more knowledge would be key to any effort to boost organic farming or its yields.\n",
      "For veggies you need min.\n",
      "Other answers have very well explained why organic produce is costly in general.\n",
      "But, most of the cultivable land in India is by default organic.\n",
      "\n",
      "\n",
      "[2050 | 3178.32] loss=0.06 avg=0.21\n",
      "[2100 | 3323.10] loss=0.05 avg=0.21\n",
      "[2150 | 3468.00] loss=0.05 avg=0.20\n",
      "[2200 | 3613.03] loss=0.07 avg=0.19\n",
      "[2250 | 3758.03] loss=0.04 avg=0.19\n",
      "[2300 | 3903.04] loss=0.08 avg=0.18\n",
      "[2350 | 4047.97] loss=0.02 avg=0.17\n",
      "[2400 | 4192.90] loss=0.02 avg=0.17\n",
      "[2450 | 4337.91] loss=0.03 avg=0.16\n",
      "[2500 | 4482.92] loss=0.04 avg=0.16\n",
      "======== SAMPLE 1 ========\n",
      " organic product or product category that you believe is healthier.\n",
      "I believe that organic products are generally more nutritious than conventional products.\n",
      "But it depends, if they are Organic on principal because they want their land and their animals to be as healthy as possable, and they want to spread the Organic message.\n",
      "But the most common answer is an economic one: Yes, we have enough resources and land to feed everyone with Organic food, but it would require a larger shift of resources towards organic food, most notably in the form of labor.\n",
      "Water Quality, Quantity and Corn Flakes The key to successful organic farming is in working with nature and the soils you are given.\n",
      "Commodity Costs and Returns Organic farming is possible because the basic economics of farming is so sound.\n",
      "But this is not always obvious, and there are some areas in which scientific research has proven the opposite: that organic foods are healthier than conventional foods, nutrient content per calorie higher, yields per calorie lower, disease rates and deaths from food-borne illness and injury reduced when organic farmers use organic methods.\n",
      "Here is just one example of many: Research from the Netherlands shows that the organic dairy farming sector is more productive than the conventional dairy farming sector, and yet organic food is still not widely eaten.\n",
      "The reason is simple: cows are feed a certain diet, which includes certain types of grasses, weeds and insects, what is called the 'organic diet'.\n",
      "This allows the cows to become very lean and healthy, while leaving them very unhealthy when compared to their conventional counterparts.\n",
      "Unfortunately, the 'organic' part of the word is kind of like a marketing term, it has nothing to do with the product.\n",
      "Instead, the 'organic' part refers to the way that particular product is produced.\n",
      "'Organic' is a term that denotes a method of production that prefers animal and plant waste instead of conventional fertilizers, and the avoidance of synthetic pesticides.\n",
      "To be fair, I recall that in a European study tomatoes grown organically had increased flavonoids - especially lycopene, and the reason was that there was less stress on the plant.\n",
      "That myth is that organic foods are somehow safer than conventionally produced foods.\n",
      "One of the primary benefits of eating organic is lower levels of pesticides.\n",
      "Natural pesticides are less toxic chemicals.\n",
      "The use of pesticides even at low doses can increase the risk of certain cancers.\n",
      "Organic produce contain more protective antioxidants, less pesticide residue and low levels of toxic metals.\n",
      "Organic food is good for the body in the long run.\n",
      "Organic food is good for the environment.\n",
      "Organic food is good for the soil.\n",
      "Organic food is good for the body in the short term.\n",
      "The healthiest form of farming is organic farming.\n",
      "In organic farming the production of chemicals is avoided as much as possible because the risks of those chemicals getting into the environment are very small compared to the risks of others getting into the environment.\n",
      "If you wish to eat meat, organic farming is the way to go.\n",
      "I've been eating organic for about 6 months now and I think I'd like to continue because I do value the $$ I put into my diet and see it as my investment for health.\n",
      "Most probably the organic food was certified fresh and healthy available in organic store.\n",
      "and you can get farm fresh and certified organic products form Indian organic warehousing.\n",
      "Support local agriculture and its people.\n",
      "Local food is good for health because it provides better nutrition to the bodies that are a part of digestive tract.\n",
      "Well known fact is that organic foods are better than their non organic foods.\n",
      "Organic farming is a type of farming completely devoid of chemical fertilizers, pesticides and instead usage of green leaf manures, cow dung, neem, manure made through weeds etc is used for the farming.\n",
      "In simple terms, Organic farming is a type of farming which completely eliminates the usage of chemicals i.e, chemical fertilizers, chemical pesticides,insecticides, everything that contains artificially produced chemicals.\n",
      "And people are not much aware of benefits of organic over the pesticide laden ones.\n",
      "The answer is simple buddy , the resources used in organic agriculture are the natural waste and organic residues most of the times produced in our own farm ,and since the organic materials are 100% biodegradable the pollution caused by them is negligible.\n",
      "Look at a list of most pesticide ridden fruits and vegetable, they are worth buying organic.\n",
      "After realizing the ill effects of such chemicals we are now promoting organic farming methodologies.\n",
      "By organic, I mean as few chemicals as possible.\n",
      "A more natural protein powder.\n",
      "It only means \"no certain types of pesticides.\"\n",
      "Organic is kind of an all-encompassing prospect, with it more recently being used to refer to foods grown without added pesticides.\n",
      "One of the arguments for organics being healthier is that we aren't going to ingest those pesticides used in helping keep foods from getting eaten before reaping.\n",
      "Experts at\n",
      "\n",
      "[2550 | 4664.52] loss=0.04 avg=0.15\n",
      "[2600 | 4809.53] loss=0.01 avg=0.15\n",
      "[2650 | 4954.57] loss=0.03 avg=0.14\n",
      "[2700 | 5099.61] loss=0.06 avg=0.14\n",
      "[2750 | 5244.58] loss=0.03 avg=0.14\n",
      "[2800 | 5389.60] loss=0.04 avg=0.13\n",
      "[2850 | 5534.63] loss=0.03 avg=0.13\n",
      "[2900 | 5679.68] loss=0.03 avg=0.13\n",
      "[2950 | 5824.66] loss=0.04 avg=0.13\n",
      "[3000 | 5969.71] loss=0.02 avg=0.12\n",
      "Saving checkpoint/345Menglish_filtered_comments/model-3000\n"
     ]
    }
   ],
   "source": [
    "finetune_op_file_name = model_name + 'english_' + finetune_file \n",
    "print(finetune_op_file_name)\n",
    "\n",
    "# tf.reset_default_graph()\n",
    "\n",
    "gpt2.finetune(sess,\n",
    "              model_name=model_name,\n",
    "              dataset = finetune_file_name,\n",
    "              steps=2000,\n",
    "              restore_from='latest',\n",
    "              run_name=op_file_name,\n",
    "              print_every=50,\n",
    "              sample_every=500,\n",
    "#               batch_size=2,\n",
    "              save_every=1000,\n",
    "              overwrite = True\n",
    "              )"
   ]
  },
  {
   "cell_type": "code",
   "execution_count": 0,
   "metadata": {
    "colab": {},
    "colab_type": "code",
    "id": "y-oXbLIHvtav"
   },
   "outputs": [],
   "source": [
    "# gpt2.copy_checkpoint_to_gdrive(run_name = finetune_op_file_name)\n",
    "gpt2.copy_checkpoint_to_gdrive(run_name = op_file_name)"
   ]
  },
  {
   "cell_type": "code",
   "execution_count": 0,
   "metadata": {
    "colab": {
     "base_uri": "https://localhost:8080/",
     "height": 275
    },
    "colab_type": "code",
    "id": "d0vYhhvQvtwX",
    "outputId": "968fdb8f-ef61-4300-ae13-66cb94c51463"
   },
   "outputs": [
    {
     "name": "stderr",
     "output_type": "stream",
     "text": [
      "W0724 08:42:47.842337 140192218957696 deprecation_wrapper.py:119] From /usr/local/lib/python3.6/dist-packages/gpt_2_simple/gpt_2.py:90: The name tf.ConfigProto is deprecated. Please use tf.compat.v1.ConfigProto instead.\n",
      "\n",
      "W0724 08:42:47.844617 140192218957696 deprecation_wrapper.py:119] From /usr/local/lib/python3.6/dist-packages/gpt_2_simple/gpt_2.py:100: The name tf.Session is deprecated. Please use tf.compat.v1.Session instead.\n",
      "\n",
      "W0724 08:42:50.263040 140192218957696 deprecation_wrapper.py:119] From /usr/local/lib/python3.6/dist-packages/gpt_2_simple/gpt_2.py:340: The name tf.placeholder is deprecated. Please use tf.compat.v1.placeholder instead.\n",
      "\n",
      "W0724 08:42:50.271141 140192218957696 deprecation_wrapper.py:119] From /usr/local/lib/python3.6/dist-packages/gpt_2_simple/src/model.py:148: The name tf.variable_scope is deprecated. Please use tf.compat.v1.variable_scope instead.\n",
      "\n",
      "W0724 08:42:56.578408 140192218957696 deprecation_wrapper.py:119] From /usr/local/lib/python3.6/dist-packages/gpt_2_simple/gpt_2.py:344: The name tf.train.Saver is deprecated. Please use tf.compat.v1.train.Saver instead.\n",
      "\n",
      "W0724 08:42:59.574087 140192218957696 deprecation.py:323] From /usr/local/lib/python3.6/dist-packages/tensorflow/python/training/saver.py:1276: checkpoint_exists (from tensorflow.python.training.checkpoint_management) is deprecated and will be removed in a future version.\n",
      "Instructions for updating:\n",
      "Use standard file APIs to check for files with this prefix.\n"
     ]
    },
    {
     "name": "stdout",
     "output_type": "stream",
     "text": [
      "Loading checkpoint checkpoint/345Menglish_filtered_comments/model-3000\n"
     ]
    }
   ],
   "source": [
    "finetune_file = 'fine_tune_organic_full_positive'\n",
    "model_name = \"345M\"\n",
    "\n",
    "finetune_op_file_name = model_name + 'english_' + finetune_file \n",
    "op_file_name = '345Menglish_filtered_comments'\n",
    "\n",
    "import os\n",
    "gpt2.copy_checkpoint_from_gdrive(run_name = finetune_op_file_name)  \n",
    "\n",
    "sess = gpt2.start_tf_sess()\n",
    "gpt2.load_gpt2(sess, run_name = op_file_name)\n",
    "\n"
   ]
  },
  {
   "cell_type": "code",
   "execution_count": 0,
   "metadata": {
    "colab": {},
    "colab_type": "code",
    "id": "6vNj1L71vt5q"
   },
   "outputs": [],
   "source": [
    "import pandas as pd\n",
    "belief_pd = pd.read_excel('drive/My Drive/Belief_statements_output.xlsx')\n",
    "col_op = 'Output_'+finetune_file\n",
    "belief_pd[col_op] = ''"
   ]
  },
  {
   "cell_type": "code",
   "execution_count": 0,
   "metadata": {
    "colab": {
     "base_uri": "https://localhost:8080/",
     "height": 1000
    },
    "colab_type": "code",
    "id": "tymBdDhhwUNx",
    "outputId": "ee60733b-df80-457b-bb7c-6d77b05b66e8"
   },
   "outputs": [
    {
     "name": "stdout",
     "output_type": "stream",
     "text": [
      "0\n"
     ]
    },
    {
     "name": "stderr",
     "output_type": "stream",
     "text": [
      "W0724 08:43:54.955510 140192218957696 deprecation.py:323] From /usr/local/lib/python3.6/dist-packages/gpt_2_simple/src/sample.py:71: to_float (from tensorflow.python.ops.math_ops) is deprecated and will be removed in a future version.\n",
      "Instructions for updating:\n",
      "Use `tf.cast` instead.\n",
      "W0724 08:43:54.976052 140192218957696 deprecation.py:323] From /usr/local/lib/python3.6/dist-packages/gpt_2_simple/src/sample.py:17: add_dispatch_support.<locals>.wrapper (from tensorflow.python.ops.array_ops) is deprecated and will be removed in a future version.\n",
      "Instructions for updating:\n",
      "Use tf.where in 2.0, which has the same broadcast rule as np.where\n",
      "W0724 08:43:54.979749 140192218957696 deprecation.py:323] From /usr/local/lib/python3.6/dist-packages/gpt_2_simple/src/sample.py:77: multinomial (from tensorflow.python.ops.random_ops) is deprecated and will be removed in a future version.\n",
      "Instructions for updating:\n",
      "Use `tf.random.categorical` instead.\n"
     ]
    },
    {
     "name": "stdout",
     "output_type": "stream",
     "text": [
      "1\n",
      "2\n",
      "3\n",
      "4\n",
      "5\n",
      "6\n",
      "7\n",
      "8\n",
      "9\n",
      "10\n",
      "11\n",
      "12\n",
      "13\n",
      "14\n",
      "15\n",
      "16\n",
      "17\n",
      "18\n",
      "19\n",
      "20\n",
      "21\n",
      "22\n",
      "23\n",
      "24\n",
      "25\n",
      "26\n",
      "27\n",
      "28\n",
      "29\n",
      "30\n",
      "31\n",
      "32\n",
      "33\n",
      "34\n",
      "35\n",
      "36\n",
      "37\n",
      "38\n",
      "39\n",
      "40\n",
      "41\n",
      "42\n",
      "43\n",
      "44\n",
      "45\n",
      "46\n",
      "47\n",
      "48\n",
      "49\n",
      "50\n",
      "51\n",
      "52\n",
      "53\n",
      "54\n",
      "55\n",
      "56\n",
      "57\n",
      "58\n",
      "59\n",
      "60\n",
      "61\n",
      "62\n",
      "63\n",
      "64\n",
      "65\n"
     ]
    }
   ],
   "source": [
    "for index, row in belief_pd.iterrows():\n",
    "    print(index)\n",
    "    a = gpt2.generate(sess, run_name=op_file_name,  length=150, return_as_list = True, temperature = 0.9, top_k = 40,  truncate=\"\", include_prefix = True, prefix = row['Beliefs'])\n",
    "    belief_pd.at[index,col_op] = '.'.join(a[0].split(\".\")[:-1]) + '.'\n",
    "\n",
    "belief_pd.to_excel('drive/My Drive/Belief_statements_output.xlsx', index = None, header=True, encoding='utf-8-sig')"
   ]
  },
  {
   "cell_type": "code",
   "execution_count": 0,
   "metadata": {
    "colab": {
     "base_uri": "https://localhost:8080/",
     "height": 1000
    },
    "colab_type": "code",
    "id": "hrpHY4XdPuxh",
    "outputId": "37f8cde5-c742-44bf-b038-7c2fe407bf5e"
   },
   "outputs": [
    {
     "name": "stderr",
     "output_type": "stream",
     "text": [
      "W0724 21:15:11.366263 140521546360704 deprecation_wrapper.py:119] From /usr/local/lib/python3.6/dist-packages/gpt_2_simple/gpt_2.py:90: The name tf.ConfigProto is deprecated. Please use tf.compat.v1.ConfigProto instead.\n",
      "\n",
      "W0724 21:15:11.368367 140521546360704 deprecation_wrapper.py:119] From /usr/local/lib/python3.6/dist-packages/gpt_2_simple/gpt_2.py:100: The name tf.Session is deprecated. Please use tf.compat.v1.Session instead.\n",
      "\n",
      "W0724 21:15:14.444474 140521546360704 deprecation_wrapper.py:119] From /usr/local/lib/python3.6/dist-packages/gpt_2_simple/gpt_2.py:164: The name tf.placeholder is deprecated. Please use tf.compat.v1.placeholder instead.\n",
      "\n",
      "W0724 21:15:14.452155 140521546360704 deprecation_wrapper.py:119] From /usr/local/lib/python3.6/dist-packages/gpt_2_simple/src/model.py:148: The name tf.variable_scope is deprecated. Please use tf.compat.v1.variable_scope instead.\n",
      "\n"
     ]
    },
    {
     "name": "stdout",
     "output_type": "stream",
     "text": [
      "345Menglish_fine_tune_organic_products_positive\n"
     ]
    },
    {
     "name": "stderr",
     "output_type": "stream",
     "text": [
      "W0724 21:15:26.423186 140521546360704 deprecation.py:323] From /usr/local/lib/python3.6/dist-packages/gpt_2_simple/src/sample.py:71: to_float (from tensorflow.python.ops.math_ops) is deprecated and will be removed in a future version.\n",
      "Instructions for updating:\n",
      "Use `tf.cast` instead.\n",
      "W0724 21:15:26.442198 140521546360704 deprecation.py:323] From /usr/local/lib/python3.6/dist-packages/gpt_2_simple/src/sample.py:17: add_dispatch_support.<locals>.wrapper (from tensorflow.python.ops.array_ops) is deprecated and will be removed in a future version.\n",
      "Instructions for updating:\n",
      "Use tf.where in 2.0, which has the same broadcast rule as np.where\n",
      "W0724 21:15:26.445417 140521546360704 deprecation.py:323] From /usr/local/lib/python3.6/dist-packages/gpt_2_simple/src/sample.py:77: multinomial (from tensorflow.python.ops.random_ops) is deprecated and will be removed in a future version.\n",
      "Instructions for updating:\n",
      "Use `tf.random.categorical` instead.\n",
      "W0724 21:15:26.458451 140521546360704 deprecation_wrapper.py:119] From /usr/local/lib/python3.6/dist-packages/gpt_2_simple/gpt_2.py:191: The name tf.train.AdamOptimizer is deprecated. Please use tf.compat.v1.train.AdamOptimizer instead.\n",
      "\n",
      "W0724 21:15:42.921225 140521546360704 deprecation_wrapper.py:119] From /usr/local/lib/python3.6/dist-packages/gpt_2_simple/gpt_2.py:198: The name tf.summary.scalar is deprecated. Please use tf.compat.v1.summary.scalar instead.\n",
      "\n",
      "W0724 21:15:42.924143 140521546360704 deprecation_wrapper.py:119] From /usr/local/lib/python3.6/dist-packages/gpt_2_simple/gpt_2.py:200: The name tf.summary.FileWriter is deprecated. Please use tf.compat.v1.summary.FileWriter instead.\n",
      "\n",
      "W0724 21:15:42.926544 140521546360704 deprecation_wrapper.py:119] From /usr/local/lib/python3.6/dist-packages/gpt_2_simple/gpt_2.py:202: The name tf.train.Saver is deprecated. Please use tf.compat.v1.train.Saver instead.\n",
      "\n",
      "W0724 21:15:56.872843 140521546360704 deprecation.py:323] From /usr/local/lib/python3.6/dist-packages/tensorflow/python/training/saver.py:1276: checkpoint_exists (from tensorflow.python.training.checkpoint_management) is deprecated and will be removed in a future version.\n",
      "Instructions for updating:\n",
      "Use standard file APIs to check for files with this prefix.\n"
     ]
    },
    {
     "name": "stdout",
     "output_type": "stream",
     "text": [
      "Loading checkpoint checkpoint/345Menglish_filtered_comments/model-1000\n"
     ]
    },
    {
     "name": "stderr",
     "output_type": "stream",
     "text": [
      "100%|██████████| 1/1 [00:00<00:00,  5.67it/s]"
     ]
    },
    {
     "name": "stdout",
     "output_type": "stream",
     "text": [
      "Loading dataset...\n",
      "dataset has 15233 tokens\n",
      "Training...\n"
     ]
    },
    {
     "name": "stderr",
     "output_type": "stream",
     "text": [
      "\n"
     ]
    },
    {
     "name": "stdout",
     "output_type": "stream",
     "text": [
      "Saving checkpoint/345Menglish_filtered_comments/model-1000\n",
      "Saving checkpoint/345Menglish_filtered_comments/model-1000\n",
      "======== SAMPLE 1 ========\n",
      " human term of 'love' which is a lie . I am talking about a lie that is been carried on by big business all along, and will not be stopped until we destroy this entire world.\n",
      "There seems to be this tendency to go for the obvious reasons and be for it. It is not worth a lot of money for small businesses, who have to be financially dependent on large ones to do business. You never really know what you are buying till you get inside of a chain of profit, whether that chain has health, safety, or other conditions for their employees that would not meet for smaller businesses. That is a risk one must take. The reason for their need to be a lot less expensive is not for any reason of profit. All profits are for profit. So the same reason they have to be so expensive, is because they are not going to make enough money, while they are spending money to do it, because there are other people out there willing to do it, and give up jobs in order to do the work necessary. So it is going to become necessary for them to become less expensive, and more expensive. People will pay way more for smaller stores, and only when they can afford that much, are they going to be able to afford a store.\n",
      "My wife also uses a little of their own money to buy the groceries at Costco, and some other big chain grocers, like Nordstrom, etc.\n",
      "The problem with it is that it gives the wrong impression. Costco has a long standing relationship with the US government. Even back in 1980, the first Costco was sold in the US. By the late 1980s, they were selling all of their meat there. If you want a list on this from Costco, it is here: Costco &amp; Nordstrom, by the Numbers.\n",
      "As someone familiar with this story, it seems like Costco has had to reduce their meat intake, due to a lack of demand.\n",
      "You could be right. Costco has to cut back on the amount they buy from suppliers, which might not be a huge concern for most people.\n",
      "Costco's decision and their recent policy has been to buy only meat from reputable companies, and not allow their customers to walk through their doors and find other meat and seafood. I know what I was eating was all meat and seafood, organic products. The only time they ever had meat was maybe 2 years ago. As they change their policy and focus more on the organic products, more people will turn out for the stores, and that more and more people will have to change their lifestyle. So Costco will cut down considerably, as their customers will make the trip more of a shopping trip.\n",
      "If you are going to buy a Costco meal, make the meal not only organic, but healthy. This is one of Costco's biggest strengths. They are known for being so committed to their customer service, you end up getting a decent experience every time you go in the store. People are not going to waste their money on the fast food option on a Saturday night.\n",
      "The health side of Costco is not what is a whole lot, but it is a good starting place for a healthier lifestyle.\n",
      "There was a study done years ago that said Costco's organic seafood had a 20% higher percocetre of Omega-3 fatty acids. Costco has stated it does not use antibiotics and does not use hormones, but this is the kind of stuff that you have to check out on your own. Costco also sells fresh shrimp, butchers, canned products, and more.\n",
      "We are not trying to buy up anything that is not on sale - we just want to make sure the store is not taking a slice or portion of the profit.\n",
      "There is a way to find certified organic seafood at Costco.\n",
      "Yes, and the organic seafood section is not only cheaper but also fresher. And fresh seafood is sometimes fresh when in season, making it not just easier to find but also healthier for our environment. I know of people getting sick more easily by buying fresh seafood.\n",
      "I buy more organic produce and food. We also sell produce!\n",
      "I go to Costco often for food.\n",
      "Are the produce from Costco Certified organic? Do they have pesticides in them?\n",
      "In addition to the fresh seafood, all other Costco produce sells great salads.\n",
      "Just because your grocery store advertises a $5 bag that looks like a big bagger, they cannot be organic.\n",
      "I buy Costco produce at my local Safeway. It is all organic, and they also have great produce the rest of the week there from the organic guys over there who were a fan of mine. We have great prices, and that makes it really easy because you can pick some up as a group purchase.\n",
      "So you do not know the difference in the quality of the produce you get back? It seems like most of Costco's produce sells out.\n",
      "That is pretty common at Safeway\n",
      "No one knows the difference. I can eat half a bag of strawberries and half a bag of tomatoes\n",
      "\n",
      "[1050 | 127.71] loss=1.26 avg=1.26\n",
      "[1100 | 209.87] loss=1.35 avg=1.30\n",
      "[1150 | 292.04] loss=0.07 avg=0.89\n",
      "[1200 | 374.19] loss=0.05 avg=0.68\n",
      "[1250 | 456.32] loss=0.16 avg=0.57\n",
      "[1300 | 538.44] loss=0.06 avg=0.48\n",
      "[1350 | 620.47] loss=0.03 avg=0.42\n",
      "[1400 | 702.50] loss=0.03 avg=0.37\n",
      "[1450 | 784.54] loss=0.03 avg=0.33\n",
      "[1500 | 866.77] loss=0.01 avg=0.30\n",
      "======== SAMPLE 1 ========\n",
      " say I'll take organic food products over any conventional food products.\n",
      "Conventionally-grown foods typically have a wide variety of cultivars, resulting in better quality overall flavor.\n",
      "There are a few cases where organic food is worth the extra cost: I personally think organic produce tastes better and will let you know how it is done.\n",
      "There are several reasons for these differences, and one of the major benefits is that organic food is dirt cheap to produce.\n",
      "It is also possible that organic food is worth the extra cost because it is a compliance with national standards that prohibit the use of pesticides and chemical fertilizers.\n",
      "These are all things that pet food fans should think about before buying organic cat food.\n",
      "While a cat food diet is essential for optimal health, there are other ways to eat well that do not involve so much chemicals.\n",
      "You may be able to eliminate or at least deminish your intake of pesticides, but I doubt it.\n",
      "Mostly everything you buy should be organic.\n",
      "I eat organic food because it is not treated with toxic pesticides.\n",
      "There is that Ora Organic Protein Powder vanilla chai flavored that I’ve been using for 6 months now and it is PROVEN SAFE because the Powder has the following features: HEARTY CHAI FLAVOR & EASY TO DIGEST - We know how hard it can be to digest pea protein, that's why we're the only brand to include Digestive Enzymes specially chosen for their ability to aid good digestion.\n",
      "ALL ORGANIC INGREDIENTS - Ora’s USDA Organic, vegan protein powder blend is completely vegan and will get you feeling good about eating organic.\n",
      "Gluten-free, soy-free, dairy-free, non-GMO & completely raw.\n",
      "Good for your body as well as your taste buds.\n",
      "If you find that the fruit you are getting from an organic grower isn't as sweet as you like, look for someone who grows at a smaller scale and is more likely to pick the fruit riper.\n",
      "From my experience, organic fruits are sweeter and have a richer, fuller flavour\n",
      "I find normal ginger tasteless but organic ginger has good taste.\n",
      "I'll add that organic chicken is much more delicious.\n",
      "Recently, after being on an organic diet for about 6 months, I've noticed similar taste differences in other foods such as apple, bananas, egg, etc.\n",
      "However, there is a remote possibility that organic food is rich in nutrients which makes them delicious.\n",
      "Fresher coffee beans will taste better.\n",
      "A more experienced roaster will be able to express flavor better...like a good chef.\n",
      "It sure tastes better!\n",
      "I've been following your answers in the Organic Food section for a while now, and if you're claiming organic food is not at all superior to conventional, and even in some cases is WORSE for you, why does organic food simply taste better then?\n",
      "Yes Organic food taste is better.\n",
      "By the organic food we can make different dishes in different flavor and its good for health.\n",
      "There are certain vegetables which has a good nutrient quality which are as follows: 1.\n",
      "Organic Cabbage is very rich in fibre, the main health benefit of roughage.\n",
      "The layered and levelled testing methods of quality ensure that there are no signs of pesticides and other chemicals found in the organic cabbage.\n",
      "The organic tomatoes are loaded with nutrients that are vital for the growth.\n",
      "Being rich in vitamin C it treats various diseases and safeguards our immunity system.\n",
      "Organic Potato: Organic Potatoes are loaded with dietary fibres and vitamin C. These are well known for their tastes.\n",
      "Organic potatoes are eaten in variety of forms using variety of styles and are often favourite vegetables of many people.\n",
      "The taste of organic fruits and vegetables s the most natural thing you can taste.\n",
      "Higher brix means better quality [3].\n",
      "I can personally attest to enjoying the flavors from my organically grown food (apples, beans, blueberries, carrots, cherries, ginkgo nuts, gooseberries, herbs, honey, leeks, lettuces, mushrooms, onion, potatoes, raspberries, squashes, strawberries, tomatoes, walnuts) more than non-organically grown food I've purchased.\n",
      "I think that organic food does have more flavor.\n",
      "It tastes more like the authentic fruit or vegetable should taste, instead of a \"watered-down\" version.\n",
      "In my opinion, organically grown food taste better if grown locally because it is fresher and full of nutrients.\n",
      "I know that at least organic eggs do indeed taste better.\n",
      "Plus, the yolk has a more attractive color (not the highlighter-yellow of \"manufactured\" eggs but a rich, deep, golden color).\n",
      "I notice that the spinach, green chillies, radish, snapper, squiggle, tomatoes, walnuts, and sweet corn all taste much much much better than\n",
      "\n",
      "[1550 | 971.37] loss=0.04 avg=0.27\n",
      "[1600 | 1053.47] loss=0.03 avg=0.25\n",
      "[1650 | 1135.49] loss=0.03 avg=0.23\n",
      "[1700 | 1217.45] loss=0.03 avg=0.22\n",
      "[1750 | 1299.54] loss=0.06 avg=0.20\n",
      "[1800 | 1381.80] loss=0.02 avg=0.19\n",
      "[1850 | 1464.05] loss=0.03 avg=0.18\n",
      "[1900 | 1546.18] loss=0.02 avg=0.17\n",
      "[1950 | 1628.22] loss=0.02 avg=0.16\n",
      "[2000 | 1710.17] loss=0.02 avg=0.16\n",
      "Saving checkpoint/345Menglish_filtered_comments/model-2000\n"
     ]
    },
    {
     "name": "stderr",
     "output_type": "stream",
     "text": [
      "W0724 21:44:42.225912 140521546360704 deprecation.py:323] From /usr/local/lib/python3.6/dist-packages/tensorflow/python/training/saver.py:960: remove_checkpoint (from tensorflow.python.training.checkpoint_management) is deprecated and will be removed in a future version.\n",
      "Instructions for updating:\n",
      "Use standard file APIs to delete files with this prefix.\n"
     ]
    },
    {
     "name": "stdout",
     "output_type": "stream",
     "text": [
      "======== SAMPLE 1 ========\n",
      " be a good choice as it’s non-processed, and free from allergens.\n",
      "Plus, gourmet food is rarely sold locally, which can make growing your own food extremely difficult, so you'll end up buy most of your veggies organic.\n",
      "Not only will your veggies be cheaper, they will also be more delicious.\n",
      "I have decided that I will live with organic food as the lesser evil.\n",
      "By avoiding it as much as possible I hope that I live a healthier life.\n",
      "Organic food may not be the best, but it is all we have left under the USDA.\n",
      "But I would pay extra for an organic chicken.\n",
      "Product taste, concerns for the environment and the desire to avoid foods from genetically engineered organisms are among the many other reasons some consumers prefer to buy organic food products.\n",
      "Many French wines from Burgundy are made according to biodynamique methods, which goes way beyond organic standards.\n",
      "However, many new brands are offering quality organic products.\n",
      "To the some extent you can trust the organic certification.\n",
      "Emphasis on organic and non-processed foods.\n",
      "(I use the quotes because it a silly term) It's expensive and no more nutritious than conventionally grown foods, though it does contain much lower levels of pesticide and herbicides, which I suspect one does not want to ingest a lot of.\n",
      "If, however, you have the wealth to shop for everything in the organic market, I see nothing wrong with that.\n",
      "Do that, and you'll do better for both your health and the environment.\n",
      "The absence of pesticide residues on fruits and vegetables is a fairly obvious benefit but there are more other far-reaching advantages of going organic.\n",
      "You may also want to read Five Reasons to Make the Big Switch to Organic Food Footnotes [1] WHY ORGANICS oFarm Organic Grocers\n",
      "Local and Organic foods typically give you more nutrition for the buck...but be sensible.\n",
      "I would definitely recommend organic milk over any super market milk.\n",
      "A long term use of these synthetic chemicals can be very harmful for the gut bacteria in human gut.\n",
      "There is lot of new research linking various disease to gut bacteria imbalance.\n",
      "All things considered I would argue that Local food is probably the most healthy choice, in both nutrient content and overall footprint.\n",
      "By the same argument, you might also consider organic for oils.\n",
      "Organic foods also regulate the use of food additives and processing aids such as artificial sweeteners, flavors, and coloring agents.\n",
      "It is produced according to organic farming principles which are committed to working in harmony with nature rather than against nature.\n",
      "Organic farming works within the natural confines of the farming eco-system to provide you with great tasting food!\n",
      "Any reputable peanut butter in a reasonably regulated food chain will be safe from aflatoxin.\n",
      "The common thing that happens when people start to eat more healthy alternatives is that they try to change their diet to a better.\n",
      "My personal experience with the two is that some food tastes better (tomatoes, chicken).\n",
      "There was a study done a few months ago and it found that basically, there is slightly more pesticide residue on conventional fruits and vegetables than on organic fruits and vegetables.\n",
      "This is why some organic produce tastes better than conventional produce.\n",
      "There are a few cases where organic food probably is better: I personally think organic bananas taste a little better than regular bananas.\n",
      "(Not enough to pay more for them, but still.)\n",
      "If you're making orange or lemon zest, you should use organic fruit to avoid the fungicides and fruit dyes used on citrus skins.\n",
      "If you really hate wax on your apples, it's easier to buy organic apples than clean conventional ones.\n",
      "Organic food in the original sense of the term arose from a very real concern shared by many people for the quality and healthfulness of their food and the system of industrial agriculture that produces it.\n",
      "What this gets at is that the growing of organic food is not just concerned with the health or quality of a carrot or an egg but rather in the process strives to build health in bigger ways too: that of the soil, of the farmer, of farm animals, of wild animals, of the farmer’s community, of the consumer that he relies on, of biodiversity in general (for the earth’s own sake, if not the various ecological services it provides, such as pollinators and other sorts of beneficial insects), of all people.\n",
      "Unfortunately, even most people who seek organics are primarily concerned with the quality of what food goes into their body and less so with those other, more abstract things.\n",
      "I do like the direction of organic and healthier, whole foods.\n",
      "I also think those who choose those foods will benefit with better health and less disease!\n",
      "long version: Depending on what you're eating, where and how it's grown and numerous other factors, there could be some benefit to choosing organic over conventional.\n",
      "Though organic produce typically has slightly higher mineral and vitamin contents than conventionally\n",
      "\n",
      "[2050 | 1821.77] loss=0.01 avg=0.15\n",
      "[2100 | 1904.08] loss=0.03 avg=0.14\n",
      "[2150 | 1986.27] loss=0.03 avg=0.14\n",
      "[2200 | 2068.30] loss=0.01 avg=0.13\n",
      "[2250 | 2150.31] loss=0.01 avg=0.13\n",
      "[2300 | 2232.30] loss=0.02 avg=0.12\n",
      "[2350 | 2314.37] loss=0.03 avg=0.12\n",
      "[2400 | 2396.56] loss=0.04 avg=0.11\n",
      "[2450 | 2478.81] loss=0.02 avg=0.11\n",
      "[2500 | 2561.11] loss=0.02 avg=0.11\n",
      "======== SAMPLE 1 ========\n",
      "-fatty acids, such as omega-3 fatty acids and CLA.\n",
      "Fruits that are high in nutrients - especially vitamins - are more likely to be better quality.\n",
      "Pesticide reduction One of the major complaints that organic food consumers cite when choosing organic over non-organic is the presence of pesticides.\n",
      "To be fair, many people do choose to go organic to make sure that their children grow up healthy and unaffected by the toxins of the world during their developmental years.\n",
      "Also see Best 5 Organic Food & Grocery Stores in Ashburn, VA Best 6 Organic Food Stores in Manila & Quezon Heart Health Increased amount of time grazing on grass also increases the amounts of CLA (conjugated linoleic acid) that can be found in the animal products.\n",
      "CLA is a heart-healthy fatty acid that can boost cardiovascular protection, and it is found in higher quantities in breast milk and in meat for animals that have been raised free range or cage-free.\n",
      "Also see Best 5 Organic Food & Grocery Stores in Manchester, NH Top 6 Organic & Health Food Stores in Petaling Jaya Overall Health Since organic food is not prepared using chemical fertilizers, it does not contain any traces of these strong chemicals and might not affect the human body in negative ways.\n",
      "Better Taste Some people strongly believe that organic food tastes better than conventional food.\n",
      "Furthermore, organic food is often sold locally, resulting in availability of fresh produce in the market, which usually does taste better than produce that has been frozen, shipped, and transported across long distances.\n",
      "Animal Welfare Animal welfare is an important aspect of producing organic milk, organic meat, organic poultry, and organic fish.\n",
      "People feel happy that the animals are not confined to a miserable caged life when they eat organic animal products.\n",
      "The below FAQs will help you understand organic food and its benefits in a better way What is Organic Food?\n",
      "Normally people believe that organic food is better for your health than conventional food.\n",
      "The exceptions are organic milk and organic tomatoes.\n",
      "Recent studies on organic milk and organic tomatoes have shown that these food products are healthier than non-organic milk and non-organic tomatoes, respectively.\n",
      "Many parents believe that organic food is safer for their children, since it does not contain any chemical pesticides and fertilizers.\n",
      "So far, scientific research has proven this only for organic milk and organic tomatoes.\n",
      "Organic milk has more omega-3, CLA, vitamins, and antioxidants than non-organic milk.\n",
      "Similarly, organic tomatoes have more antioxidants than non-organic tomatoes.\n",
      "Organic livestock raised for meat, eggs, and dairy products must have access to the outdoors and be given organic feed.\n",
      "And i have also observed the taste difference between organic and the conventional products.\n",
      "They say organic produce is good for the body in the long run.\n",
      "I thought I didn't like them much until I began eating organic for certain foods.\n",
      "Organic from several different providers have lacked the bitterness as well as the 'chemical' taste and are sweeter like a low sugar melon to my palate.\n",
      "(I find that the meats taste decidedly better, and I do believe the animals are treated better, albeit not nearly as well as I want them to be.)\n",
      "If you wish to eat meat, organic pastured types (or those indicating that the animals were not given hormones) are the most recommended to avoid cause for concern in this regard.\n",
      "Organic fruits and vegetables have the potential to be more nutritious than conventional produce, but the reality depends on the details.\n",
      "It has now been shown that organic dairy and meat has a different balance of fatty acids, one that has a higher proportion of omega-3s.\n",
      "Fruits that are ripened longer than their conventional counterparts are more nutritious and should be the priority in any food chain.\n",
      "It has now been shown that organic dairy and meat has a different balance of sugars, fats, proteins, and vitamins and conditions.\n",
      "These and other studies go a long way to show the benefits of organic food products.\n",
      "However, it is certainly possible that organic food is richer in nutrients that are harmful for our bodies.\n",
      "It is well known for the number of benefits that are produced by biodynamic practices, such as reduced soil erosion, better soil quality, better quality manure, better quality fish, and better quality eggs.\n",
      "May contain eggs laid in duck, organic eggs are easier to raise and are more likely to produce healthy, intact, and sound eggs.\n",
      "Eggs are one of the many types of organic foods that are well known for the number of benefits for the overall health of the body.\n",
      "Health in general is better with organic foods, since they are low in calories and fat.\n",
      "However, the availability of organic food itself doesn't make it inferior, it simply shows the level of consumerism in India is quite low.\n",
      "There is such a thing as organic wine and wine made from organically grown grapes.\n",
      "That said, I get fewer hangovers or sleep problems when I drink biodynamic\n",
      "\n",
      "[2550 | 2666.76] loss=0.01 avg=0.10\n",
      "[2600 | 2748.75] loss=0.01 avg=0.10\n",
      "[2650 | 2830.89] loss=0.02 avg=0.10\n",
      "[2700 | 2913.15] loss=0.03 avg=0.09\n",
      "[2750 | 2995.37] loss=0.01 avg=0.09\n",
      "[2800 | 3077.52] loss=0.01 avg=0.09\n",
      "[2850 | 3159.63] loss=0.02 avg=0.09\n",
      "[2900 | 3241.74] loss=0.03 avg=0.09\n",
      "[2950 | 3323.72] loss=0.02 avg=0.08\n",
      "[3000 | 3405.69] loss=0.02 avg=0.08\n",
      "Saving checkpoint/345Menglish_filtered_comments/model-3000\n"
     ]
    }
   ],
   "source": [
    "finetune_file = 'fine_tune_organic_products_positive'\n",
    "finetune_file_name = finetune_file + '.txt'\n",
    "gpt2.copy_file_from_gdrive(finetune_file_name)\n",
    "\n",
    "model_name = \"345M\"\n",
    "op_file_name = model_name + \"english_filtered_comments\" \n",
    "finetune_op_file_name = model_name + 'english_' + finetune_file \n",
    "\n",
    "import os\n",
    "# gpt2.copy_checkpoint_from_gdrive(run_name = finetune_op_file_name) \n",
    "gpt2.copy_checkpoint_from_gdrive(run_name = op_file_name)  \n",
    "\n",
    "sess = gpt2.start_tf_sess()\n",
    "# gpt2.load_gpt2(sess, run_name = op_file_name)\n",
    "\n",
    "print(finetune_op_file_name)\n",
    "\n",
    "# tf.reset_default_graph()\n",
    "\n",
    "gpt2.finetune(sess,\n",
    "              model_name=model_name,\n",
    "              dataset = finetune_file_name,\n",
    "              steps=2000,\n",
    "              restore_from='latest',\n",
    "              run_name=op_file_name,\n",
    "              print_every=50,\n",
    "              sample_every=500,\n",
    "#               batch_size=2,\n",
    "              save_every=1000,\n",
    "              overwrite = True\n",
    "              )\n",
    "\n",
    "# gpt2.copy_checkpoint_to_gdrive(run_name = finetune_op_file_name)\n",
    "gpt2.copy_checkpoint_to_gdrive(run_name = op_file_name)"
   ]
  },
  {
   "cell_type": "code",
   "execution_count": 0,
   "metadata": {
    "colab": {
     "base_uri": "https://localhost:8080/",
     "height": 1000
    },
    "colab_type": "code",
    "id": "wVUCiN1pPu0X",
    "outputId": "1a965c86-a3b8-46bc-bb5c-78d4e36603dd"
   },
   "outputs": [
    {
     "name": "stderr",
     "output_type": "stream",
     "text": [
      "W0725 04:23:46.227291 140506670434176 deprecation_wrapper.py:119] From /usr/local/lib/python3.6/dist-packages/gpt_2_simple/gpt_2.py:90: The name tf.ConfigProto is deprecated. Please use tf.compat.v1.ConfigProto instead.\n",
      "\n",
      "W0725 04:23:46.229021 140506670434176 deprecation_wrapper.py:119] From /usr/local/lib/python3.6/dist-packages/gpt_2_simple/gpt_2.py:100: The name tf.Session is deprecated. Please use tf.compat.v1.Session instead.\n",
      "\n",
      "W0725 04:23:49.004920 140506670434176 deprecation_wrapper.py:119] From /usr/local/lib/python3.6/dist-packages/gpt_2_simple/gpt_2.py:340: The name tf.placeholder is deprecated. Please use tf.compat.v1.placeholder instead.\n",
      "\n",
      "W0725 04:23:49.011964 140506670434176 deprecation_wrapper.py:119] From /usr/local/lib/python3.6/dist-packages/gpt_2_simple/src/model.py:148: The name tf.variable_scope is deprecated. Please use tf.compat.v1.variable_scope instead.\n",
      "\n",
      "W0725 04:23:54.137252 140506670434176 deprecation_wrapper.py:119] From /usr/local/lib/python3.6/dist-packages/gpt_2_simple/gpt_2.py:344: The name tf.train.Saver is deprecated. Please use tf.compat.v1.train.Saver instead.\n",
      "\n",
      "W0725 04:23:56.735924 140506670434176 deprecation.py:323] From /usr/local/lib/python3.6/dist-packages/tensorflow/python/training/saver.py:1276: checkpoint_exists (from tensorflow.python.training.checkpoint_management) is deprecated and will be removed in a future version.\n",
      "Instructions for updating:\n",
      "Use standard file APIs to check for files with this prefix.\n"
     ]
    },
    {
     "name": "stdout",
     "output_type": "stream",
     "text": [
      "Loading checkpoint checkpoint/345Menglish_filtered_comments/model-3000\n",
      "0\n"
     ]
    },
    {
     "name": "stderr",
     "output_type": "stream",
     "text": [
      "W0725 04:24:05.644512 140506670434176 deprecation.py:323] From /usr/local/lib/python3.6/dist-packages/gpt_2_simple/src/sample.py:71: to_float (from tensorflow.python.ops.math_ops) is deprecated and will be removed in a future version.\n",
      "Instructions for updating:\n",
      "Use `tf.cast` instead.\n",
      "W0725 04:24:05.660219 140506670434176 deprecation.py:323] From /usr/local/lib/python3.6/dist-packages/gpt_2_simple/src/sample.py:17: add_dispatch_support.<locals>.wrapper (from tensorflow.python.ops.array_ops) is deprecated and will be removed in a future version.\n",
      "Instructions for updating:\n",
      "Use tf.where in 2.0, which has the same broadcast rule as np.where\n",
      "W0725 04:24:05.662907 140506670434176 deprecation.py:323] From /usr/local/lib/python3.6/dist-packages/gpt_2_simple/src/sample.py:77: multinomial (from tensorflow.python.ops.random_ops) is deprecated and will be removed in a future version.\n",
      "Instructions for updating:\n",
      "Use `tf.random.categorical` instead.\n"
     ]
    },
    {
     "name": "stdout",
     "output_type": "stream",
     "text": [
      "1\n",
      "2\n",
      "3\n",
      "4\n",
      "5\n",
      "6\n",
      "7\n",
      "8\n",
      "9\n",
      "10\n",
      "11\n",
      "12\n",
      "13\n",
      "14\n",
      "15\n",
      "16\n",
      "17\n",
      "18\n",
      "19\n",
      "20\n",
      "21\n",
      "22\n",
      "23\n",
      "24\n",
      "25\n",
      "26\n",
      "27\n",
      "28\n",
      "29\n",
      "30\n",
      "31\n",
      "32\n",
      "33\n",
      "34\n",
      "35\n",
      "36\n",
      "37\n",
      "38\n",
      "39\n",
      "40\n",
      "41\n",
      "42\n",
      "43\n",
      "44\n",
      "45\n",
      "46\n",
      "47\n",
      "48\n",
      "49\n",
      "50\n",
      "51\n",
      "52\n",
      "53\n",
      "54\n",
      "55\n",
      "56\n",
      "57\n",
      "58\n",
      "59\n",
      "60\n",
      "61\n",
      "62\n",
      "63\n",
      "64\n",
      "65\n"
     ]
    }
   ],
   "source": [
    "finetune_file = 'fine_tune_organic_products_positive'\n",
    "model_name = \"345M\"\n",
    "\n",
    "finetune_op_file_name = model_name + 'english_' + finetune_file \n",
    "op_file_name = '345Menglish_filtered_comments'\n",
    "\n",
    "import os\n",
    "gpt2.copy_checkpoint_from_gdrive(run_name = finetune_op_file_name)  \n",
    "\n",
    "sess = gpt2.start_tf_sess()\n",
    "gpt2.load_gpt2(sess, run_name = op_file_name)\n",
    "\n",
    "import pandas as pd\n",
    "belief_pd = pd.read_excel('drive/My Drive/Belief_statements_output.xlsx')\n",
    "col_op = 'Output_'+finetune_file\n",
    "belief_pd[col_op] = ''\n",
    "\n",
    "for index, row in belief_pd.iterrows():\n",
    "    print(index)\n",
    "    a = gpt2.generate(sess, run_name=op_file_name,  length=150, return_as_list = True, temperature = 0.9, top_k = 40,  truncate=\"\", include_prefix = True, prefix = row['Beliefs'])\n",
    "    belief_pd.at[index,col_op] = '.'.join(a[0].split(\".\")[:-1]) + '.'\n",
    "\n",
    "belief_pd.to_excel('drive/My Drive/Belief_statements_output.xlsx', index = None, header=True, encoding='utf-8-sig')\n",
    "\n"
   ]
  },
  {
   "cell_type": "code",
   "execution_count": 0,
   "metadata": {
    "colab": {
     "base_uri": "https://localhost:8080/",
     "height": 1000
    },
    "colab_type": "code",
    "id": "UQ38hBE1nauk",
    "outputId": "e363780c-112e-4e89-c037-58b1aa0e4d8f"
   },
   "outputs": [
    {
     "name": "stdout",
     "output_type": "stream",
     "text": [
      "Loading checkpoint checkpoint/345Menglish_filtered_comments/model-3000\n",
      "WARNING:tensorflow:From /usr/local/lib/python3.6/dist-packages/tensorflow/python/training/saver.py:1276: checkpoint_exists (from tensorflow.python.training.checkpoint_management) is deprecated and will be removed in a future version.\n",
      "Instructions for updating:\n",
      "Use standard file APIs to check for files with this prefix.\n",
      "INFO:tensorflow:Restoring parameters from checkpoint/345Menglish_filtered_comments/model-3000\n",
      "0 0\n",
      "WARNING:tensorflow:From /usr/local/lib/python3.6/dist-packages/gpt_2_simple/src/sample.py:17: add_dispatch_support.<locals>.wrapper (from tensorflow.python.ops.array_ops) is deprecated and will be removed in a future version.\n",
      "Instructions for updating:\n",
      "Use tf.where in 2.0, which has the same broadcast rule as np.where\n",
      "1 10\n",
      "2 20\n",
      "3 30\n",
      "4 40\n",
      "5 50\n",
      "6 60\n",
      "7 70\n",
      "8 80\n",
      "9 90\n",
      "10 100\n",
      "11 110\n",
      "12 120\n",
      "13 130\n",
      "14 140\n",
      "15 150\n",
      "16 160\n",
      "17 170\n",
      "18 180\n",
      "19 190\n",
      "20 200\n",
      "21 210\n",
      "22 220\n",
      "23 230\n",
      "24 240\n",
      "25 250\n",
      "26 260\n",
      "27 270\n",
      "28 280\n",
      "29 290\n",
      "30 300\n",
      "31 310\n",
      "32 320\n",
      "33 330\n",
      "34 340\n",
      "35 350\n",
      "36 360\n",
      "37 370\n",
      "38 380\n",
      "39 390\n",
      "40 400\n",
      "41 410\n",
      "42 420\n",
      "43 430\n",
      "44 440\n",
      "45 450\n",
      "46 460\n",
      "47 470\n",
      "48 480\n",
      "49 490\n",
      "50 500\n",
      "51 510\n",
      "52 520\n",
      "53 530\n",
      "54 540\n",
      "55 550\n",
      "56 560\n",
      "57 570\n",
      "58 580\n",
      "59 590\n",
      "60 600\n",
      "61 610\n",
      "62 620\n",
      "63 630\n",
      "64 640\n",
      "65 650\n"
     ]
    }
   ],
   "source": [
    "finetune_file = 'fine_tune_organic_products_positive'\n",
    "model_name = \"345M\"\n",
    "\n",
    "finetune_op_file_name = model_name + 'english_' + finetune_file \n",
    "op_file_name = '345Menglish_filtered_comments'\n",
    "\n",
    "import os\n",
    "gpt2.copy_checkpoint_from_gdrive(run_name = finetune_op_file_name)  \n",
    "\n",
    "sess = gpt2.start_tf_sess()\n",
    "gpt2.load_gpt2(sess, run_name = op_file_name)\n",
    "\n",
    "import pandas as pd\n",
    "belief_pd = pd.read_excel('drive/My Drive/Belief_statements.xlsx')\n",
    "Output_df = pd.DataFrame(columns=['Output','Label'])\n",
    "\n",
    "i = Output_df.shape[0]\n",
    "for index, row in belief_pd.iterrows():\n",
    "    print(index, i)\n",
    "    a = gpt2.generate(sess, run_name=op_file_name,  length=150, return_as_list = True, nsamples = 10, temperature = 0.9, top_k = 40,  truncate=\"\", include_prefix = True, prefix = row['Beliefs'])\n",
    "    for j in range(len(a)): \n",
    "      Output_df.at[i,'Output'] = '.'.join(a[j].split(\".\")[:-1]) + '.'\n",
    "      Output_df.at[i,'Label'] = 'p'\n",
    "      i = i + 1\n",
    "      \n",
    "\n",
    "Output_df.to_excel('drive/My Drive/GPT2_statements_output.xlsx', index = None, header=True, encoding='utf-8-sig')\n",
    "\n"
   ]
  },
  {
   "cell_type": "code",
   "execution_count": 0,
   "metadata": {
    "colab": {
     "base_uri": "https://localhost:8080/",
     "height": 1000
    },
    "colab_type": "code",
    "id": "i11Pj-rJnbaa",
    "outputId": "4b88b219-3878-42b2-df7e-92b9efc28d01"
   },
   "outputs": [
    {
     "name": "stdout",
     "output_type": "stream",
     "text": [
      "Loading checkpoint checkpoint/345Menglish_filtered_comments/model-3000\n",
      "WARNING:tensorflow:From /usr/local/lib/python3.6/dist-packages/tensorflow/python/training/saver.py:1276: checkpoint_exists (from tensorflow.python.training.checkpoint_management) is deprecated and will be removed in a future version.\n",
      "Instructions for updating:\n",
      "Use standard file APIs to check for files with this prefix.\n",
      "INFO:tensorflow:Restoring parameters from checkpoint/345Menglish_filtered_comments/model-3000\n",
      "0 660\n",
      "WARNING:tensorflow:From /usr/local/lib/python3.6/dist-packages/gpt_2_simple/src/sample.py:17: add_dispatch_support.<locals>.wrapper (from tensorflow.python.ops.array_ops) is deprecated and will be removed in a future version.\n",
      "Instructions for updating:\n",
      "Use tf.where in 2.0, which has the same broadcast rule as np.where\n",
      "1 670\n",
      "2 680\n",
      "3 690\n",
      "4 700\n",
      "5 710\n",
      "6 720\n",
      "7 730\n",
      "8 740\n",
      "9 750\n",
      "10 760\n",
      "11 770\n",
      "12 780\n",
      "13 790\n",
      "14 800\n",
      "15 810\n",
      "16 820\n",
      "17 830\n",
      "18 840\n",
      "19 850\n",
      "20 860\n",
      "21 870\n",
      "22 880\n",
      "23 890\n",
      "24 900\n",
      "25 910\n",
      "26 920\n",
      "27 930\n",
      "28 940\n",
      "29 950\n",
      "30 960\n",
      "31 970\n",
      "32 980\n",
      "33 990\n",
      "34 1000\n",
      "35 1010\n",
      "36 1020\n",
      "37 1030\n",
      "38 1040\n",
      "39 1050\n",
      "40 1060\n",
      "41 1070\n",
      "42 1080\n",
      "43 1090\n",
      "44 1100\n",
      "45 1110\n",
      "46 1120\n",
      "47 1130\n",
      "48 1140\n",
      "49 1150\n",
      "50 1160\n",
      "51 1170\n",
      "52 1180\n",
      "53 1190\n",
      "54 1200\n",
      "55 1210\n",
      "56 1220\n",
      "57 1230\n",
      "58 1240\n",
      "59 1250\n",
      "60 1260\n",
      "61 1270\n",
      "62 1280\n",
      "63 1290\n",
      "64 1300\n",
      "65 1310\n"
     ]
    }
   ],
   "source": [
    "finetune_file = 'fine_tune_organic_products_negative'\n",
    "model_name = \"345M\"\n",
    "\n",
    "finetune_op_file_name = model_name + 'english_' + finetune_file \n",
    "op_file_name = '345Menglish_filtered_comments'\n",
    "\n",
    "import os\n",
    "gpt2.copy_checkpoint_from_gdrive(run_name = finetune_op_file_name)  \n",
    "\n",
    "sess = gpt2.start_tf_sess()\n",
    "gpt2.load_gpt2(sess, run_name = op_file_name)\n",
    "\n",
    "import pandas as pd\n",
    "belief_pd = pd.read_excel('drive/My Drive/Belief_statements.xlsx')\n",
    "Output_df = pd.read_excel('drive/My Drive/GPT2_statements_output.xlsx')\n",
    "# Output_df = pd.DataFrame(columns=['Output','Label'])\n",
    "\n",
    "i = Output_df.shape[0]\n",
    "for index, row in belief_pd.iterrows():\n",
    "    print(index, i)\n",
    "    a = gpt2.generate(sess, run_name=op_file_name,  length=150, return_as_list = True, nsamples = 10, temperature = 0.9, top_k = 40,  truncate=\"\", include_prefix = True, prefix = row['Beliefs'])\n",
    "    for j in range(len(a)): \n",
    "      Output_df.at[i,'Output'] = '.'.join(a[j].split(\".\")[:-1]) + '.'\n",
    "      Output_df.at[i,'Label'] = 'n'\n",
    "      i = i + 1\n",
    "      \n",
    "\n",
    "Output_df.to_excel('drive/My Drive/GPT2_statements_output.xlsx', index = None, header=True, encoding='utf-8-sig')"
   ]
  },
  {
   "cell_type": "code",
   "execution_count": 0,
   "metadata": {
    "colab": {
     "base_uri": "https://localhost:8080/",
     "height": 1000
    },
    "colab_type": "code",
    "id": "VW7s6KaEnb1N",
    "outputId": "c4853ea4-3bc7-4085-f22f-b65cc65f50d5"
   },
   "outputs": [
    {
     "name": "stdout",
     "output_type": "stream",
     "text": [
      "Loading checkpoint checkpoint/345Menglish_filtered_comments/model-3000\n",
      "WARNING:tensorflow:From /usr/local/lib/python3.6/dist-packages/tensorflow/python/training/saver.py:1276: checkpoint_exists (from tensorflow.python.training.checkpoint_management) is deprecated and will be removed in a future version.\n",
      "Instructions for updating:\n",
      "Use standard file APIs to check for files with this prefix.\n",
      "INFO:tensorflow:Restoring parameters from checkpoint/345Menglish_filtered_comments/model-3000\n",
      "0 1320\n",
      "WARNING:tensorflow:From /usr/local/lib/python3.6/dist-packages/gpt_2_simple/src/sample.py:17: add_dispatch_support.<locals>.wrapper (from tensorflow.python.ops.array_ops) is deprecated and will be removed in a future version.\n",
      "Instructions for updating:\n",
      "Use tf.where in 2.0, which has the same broadcast rule as np.where\n",
      "1 1330\n",
      "2 1340\n",
      "3 1350\n",
      "4 1360\n",
      "5 1370\n",
      "6 1380\n",
      "7 1390\n",
      "8 1400\n",
      "9 1410\n",
      "10 1420\n",
      "11 1430\n",
      "12 1440\n",
      "13 1450\n",
      "14 1460\n",
      "15 1470\n",
      "16 1480\n",
      "17 1490\n",
      "18 1500\n",
      "19 1510\n",
      "20 1520\n",
      "21 1530\n",
      "22 1540\n",
      "23 1550\n",
      "24 1560\n",
      "25 1570\n",
      "26 1580\n",
      "27 1590\n",
      "28 1600\n",
      "29 1610\n",
      "30 1620\n",
      "31 1630\n",
      "32 1640\n",
      "33 1650\n",
      "34 1660\n",
      "35 1670\n",
      "36 1680\n",
      "37 1690\n",
      "38 1700\n",
      "39 1710\n",
      "40 1720\n",
      "41 1730\n",
      "42 1740\n",
      "43 1750\n",
      "44 1760\n",
      "45 1770\n",
      "46 1780\n",
      "47 1790\n",
      "48 1800\n",
      "49 1810\n",
      "50 1820\n",
      "51 1830\n",
      "52 1840\n",
      "53 1850\n",
      "54 1860\n",
      "55 1870\n",
      "56 1880\n",
      "57 1890\n",
      "58 1900\n",
      "59 1910\n",
      "60 1920\n",
      "61 1930\n",
      "62 1940\n",
      "63 1950\n",
      "64 1960\n",
      "65 1970\n"
     ]
    }
   ],
   "source": [
    "finetune_file = 'fine_tune_organic_products_neutral'\n",
    "model_name = \"345M\"\n",
    "\n",
    "finetune_op_file_name = model_name + 'english_' + finetune_file \n",
    "op_file_name = '345Menglish_filtered_comments'\n",
    "\n",
    "import os\n",
    "gpt2.copy_checkpoint_from_gdrive(run_name = finetune_op_file_name)  \n",
    "\n",
    "sess = gpt2.start_tf_sess()\n",
    "gpt2.load_gpt2(sess, run_name = op_file_name)\n",
    "\n",
    "import pandas as pd\n",
    "belief_pd = pd.read_excel('drive/My Drive/Belief_statements.xlsx')\n",
    "Output_df = pd.read_excel('drive/My Drive/GPT2_statements_output.xlsx')\n",
    "# Output_df = pd.DataFrame(columns=['Output','Label'])\n",
    "\n",
    "i = Output_df.shape[0]\n",
    "for index, row in belief_pd.iterrows():\n",
    "    print(index, i)\n",
    "    a = gpt2.generate(sess, run_name=op_file_name,  length=150, return_as_list = True, nsamples = 10, temperature = 0.9, top_k = 40,  truncate=\"\", include_prefix = True, prefix = row['Beliefs'])\n",
    "    for j in range(len(a)): \n",
    "      Output_df.at[i,'Output'] = '.'.join(a[j].split(\".\")[:-1]) + '.'\n",
    "      Output_df.at[i,'Label'] = '0'\n",
    "      i = i + 1\n",
    "      \n",
    "\n",
    "Output_df.to_excel('drive/My Drive/GPT2_statements_output.xlsx', index = None, header=True, encoding='utf-8-sig')"
   ]
  },
  {
   "cell_type": "code",
   "execution_count": 0,
   "metadata": {
    "colab": {},
    "colab_type": "code",
    "id": "Y4LWgNCzncEb"
   },
   "outputs": [],
   "source": [
    "from sklearn.model_selection import train_test_split\n",
    "trainingSet, testSet = train_test_split(Output_df, test_size=0.2)\n"
   ]
  },
  {
   "cell_type": "code",
   "execution_count": 0,
   "metadata": {
    "colab": {
     "base_uri": "https://localhost:8080/",
     "height": 35
    },
    "colab_type": "code",
    "id": "b0wIsF2B4qcR",
    "outputId": "05d43507-df20-41a2-b082-3f07794edd69"
   },
   "outputs": [
    {
     "name": "stdout",
     "output_type": "stream",
     "text": [
      "1584 396\n"
     ]
    }
   ],
   "source": [
    "print(trainingSet.shape[0], testSet.shape[0])"
   ]
  },
  {
   "cell_type": "markdown",
   "metadata": {
    "colab_type": "text",
    "id": "ig-KVgkCDCKD"
   },
   "source": []
  }
 ],
 "metadata": {
  "accelerator": "GPU",
  "colab": {
   "collapsed_sections": [],
   "machine_shape": "hm",
   "name": "Train a GPT-2 Text-Generating Model w/ GPU",
   "provenance": [],
   "toc_visible": true
  },
  "kernelspec": {
   "display_name": "Python 3",
   "language": "python",
   "name": "python3"
  },
  "language_info": {
   "codemirror_mode": {
    "name": "ipython",
    "version": 3
   },
   "file_extension": ".py",
   "mimetype": "text/x-python",
   "name": "python",
   "nbconvert_exporter": "python",
   "pygments_lexer": "ipython3",
   "version": "3.6.8"
  }
 },
 "nbformat": 4,
 "nbformat_minor": 1
}
